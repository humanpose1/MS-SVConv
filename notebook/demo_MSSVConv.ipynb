{
  "nbformat": 4,
  "nbformat_minor": 0,
  "metadata": {
    "colab": {
      "name": "demo_MSSVConv.ipynb",
      "provenance": [],
      "collapsed_sections": [],
      "authorship_tag": "ABX9TyO0D0CMfFzrzv2HAi1puzGv",
      "include_colab_link": true
    },
    "kernelspec": {
      "name": "python3",
      "display_name": "Python 3"
    },
    "language_info": {
      "name": "python"
    },
    "accelerator": "GPU"
  },
  "cells": [
    {
      "cell_type": "markdown",
      "metadata": {
        "id": "view-in-github",
        "colab_type": "text"
      },
      "source": [
        "<a href=\"https://colab.research.google.com/github/humanpose1/MS-SVConv/blob/main/notebook/demo_MSSVConv.ipynb\" target=\"_parent\"><img src=\"https://colab.research.google.com/assets/colab-badge.svg\" alt=\"Open In Colab\"/></a>"
      ]
    },
    {
      "cell_type": "markdown",
      "metadata": {
        "id": "slKL_LEw6P3c"
      },
      "source": [
        "# Demo of MS SVConv for point cloud registration\n",
        "\n",
        "The goal of this notebook is to quickly show how you can use MS-SVConv on your projects.\n",
        "\n",
        "\n",
        "\n",
        "\n"
      ]
    },
    {
      "cell_type": "markdown",
      "metadata": {
        "id": "fv1Ca0XF6pHz"
      },
      "source": [
        "## Installation\n",
        "First we install necessary packages"
      ]
    },
    {
      "cell_type": "code",
      "metadata": {
        "colab": {
          "base_uri": "https://localhost:8080/"
        },
        "id": "vbPbVET4Bv15",
        "outputId": "ee214cd5-05ab-40e1-8aa5-434e38dbddd5"
      },
      "source": [
        "!pip install torch==1.8.1\n",
        "!pip uninstall -y torch-scatter\n",
        "!pip uninstall -y torch-sparse\n",
        "!pip uninstall -y torch-cluster\n",
        "!pip install torch-scatter -f https://data.pyg.org/whl/torch-1.8.1+cu102.html\n",
        "!pip install torch-sparse -f https://data.pyg.org/whl/torch-1.8.1+cu102.html\n",
        "!pip install torch-cluster -f https://data.pyg.org/whl/torch-1.8.1+cu102.html\n",
        "!pip install torch-spline-conv -f https://data.pyg.org/whl/torch-1.8.1+cu102.html\n",
        "!pip install torch-geometric\n",
        "!pip install pyvista\n",
        "!pip install --upgrade jsonschema\n",
        "\n",
        "!pip install git+https://github.com/nicolas-chaulet/torch-points3d.git@e090530eab5e3e5798c5abc764088d6a1f9827c3\n",
        "!apt-get update\n",
        "!apt-get install -qq xvfb libgl1-mesa-glx"
      ],
      "execution_count": null,
      "outputs": [
        {
          "output_type": "stream",
          "name": "stdout",
          "text": [
            "Requirement already satisfied: torch==1.8.1 in /usr/local/lib/python3.7/dist-packages (1.8.1)\n",
            "Requirement already satisfied: typing-extensions in /usr/local/lib/python3.7/dist-packages (from torch==1.8.1) (3.7.4.3)\n",
            "Requirement already satisfied: numpy in /usr/local/lib/python3.7/dist-packages (from torch==1.8.1) (1.19.5)\n",
            "\u001b[33mWARNING: Skipping torch-scatter as it is not installed.\u001b[0m\n",
            "\u001b[33mWARNING: Skipping torch-sparse as it is not installed.\u001b[0m\n",
            "\u001b[33mWARNING: Skipping torch-cluster as it is not installed.\u001b[0m\n",
            "\u001b[33mWARNING: Skipping torch-geometric as it is not installed.\u001b[0m\n",
            "Looking in links: https://data.pyg.org/whl/torch-1.8.1+cu102.html\n",
            "Collecting torch-scatter\n",
            "  Using cached torch_scatter-2.0.9.tar.gz (21 kB)\n",
            "Building wheels for collected packages: torch-scatter\n",
            "  Building wheel for torch-scatter (setup.py) ... \u001b[?25l\u001b[?25hcanceled\n",
            "\u001b[31mERROR: Operation cancelled by user\u001b[0m\n",
            "Looking in links: https://data.pyg.org/whl/torch-1.8.1+cu102.html\n",
            "Collecting torch-sparse\n",
            "  Downloading https://data.pyg.org/whl/torch-1.8.0%2Bcu102/torch_sparse-0.6.12-cp37-cp37m-linux_x86_64.whl (3.1 MB)\n",
            "\u001b[K     |████████████████████████████████| 3.1 MB 4.4 MB/s \n",
            "\u001b[?25hRequirement already satisfied: scipy in /usr/local/lib/python3.7/dist-packages (from torch-sparse) (1.4.1)\n",
            "Requirement already satisfied: numpy>=1.13.3 in /usr/local/lib/python3.7/dist-packages (from scipy->torch-sparse) (1.19.5)\n",
            "\u001b[31mERROR: Operation cancelled by user\u001b[0m\n",
            "Traceback (most recent call last):\n",
            "  File \"/usr/local/lib/python3.7/dist-packages/pip/_vendor/pkg_resources/__init__.py\", line 3021, in _dep_map\n",
            "    return self.__dep_map\n",
            "  File \"/usr/local/lib/python3.7/dist-packages/pip/_vendor/pkg_resources/__init__.py\", line 2815, in __getattr__\n",
            "    raise AttributeError(attr)\n",
            "AttributeError: _DistInfoDistribution__dep_map\n",
            "\n",
            "During handling of the above exception, another exception occurred:\n",
            "\n",
            "Traceback (most recent call last):\n",
            "  File \"/usr/local/lib/python3.7/dist-packages/pip/_internal/cli/base_command.py\", line 180, in _main\n",
            "    status = self.run(options, args)\n",
            "  File \"/usr/local/lib/python3.7/dist-packages/pip/_internal/cli/req_command.py\", line 199, in wrapper\n",
            "    return func(self, options, args)\n",
            "  File \"/usr/local/lib/python3.7/dist-packages/pip/_internal/commands/install.py\", line 385, in run\n",
            "    conflicts = self._determine_conflicts(to_install)\n",
            "  File \"/usr/local/lib/python3.7/dist-packages/pip/_internal/commands/install.py\", line 515, in _determine_conflicts\n",
            "    return check_install_conflicts(to_install)\n",
            "  File \"/usr/local/lib/python3.7/dist-packages/pip/_internal/operations/check.py\", line 103, in check_install_conflicts\n",
            "    package_set, _ = create_package_set_from_installed()\n",
            "  File \"/usr/local/lib/python3.7/dist-packages/pip/_internal/operations/check.py\", line 45, in create_package_set_from_installed\n",
            "    package_set[name] = PackageDetails(dist.version, dist.requires())\n",
            "  File \"/usr/local/lib/python3.7/dist-packages/pip/_vendor/pkg_resources/__init__.py\", line 2736, in requires\n",
            "    dm = self._dep_map\n",
            "  File \"/usr/local/lib/python3.7/dist-packages/pip/_vendor/pkg_resources/__init__.py\", line 3023, in _dep_map\n",
            "    self.__dep_map = self._compute_dependencies()\n",
            "  File \"/usr/local/lib/python3.7/dist-packages/pip/_vendor/pkg_resources/__init__.py\", line 3033, in _compute_dependencies\n",
            "    reqs.extend(parse_requirements(req))\n",
            "  File \"/usr/local/lib/python3.7/dist-packages/pip/_vendor/pkg_resources/__init__.py\", line 3094, in parse_requirements\n",
            "    yield Requirement(line)\n",
            "  File \"/usr/local/lib/python3.7/dist-packages/pip/_vendor/pkg_resources/__init__.py\", line 3115, in __init__\n",
            "    str(self.marker) if self.marker else None,\n",
            "  File \"/usr/local/lib/python3.7/dist-packages/pip/_vendor/packaging/markers.py\", line 316, in __str__\n",
            "    return _format_marker(self._markers)\n",
            "  File \"/usr/local/lib/python3.7/dist-packages/pip/_vendor/packaging/markers.py\", line 176, in _format_marker\n",
            "    return _format_marker(marker[0])\n",
            "  File \"/usr/local/lib/python3.7/dist-packages/pip/_vendor/packaging/markers.py\", line 185, in _format_marker\n",
            "    return \" \".join([m.serialize() for m in marker])\n",
            "  File \"/usr/local/lib/python3.7/dist-packages/pip/_vendor/packaging/markers.py\", line 185, in <listcomp>\n",
            "    return \" \".join([m.serialize() for m in marker])\n",
            "  File \"/usr/local/lib/python3.7/dist-packages/pip/_vendor/packaging/markers.py\", line 94, in serialize\n",
            "    return str(self)\n",
            "  File \"/usr/local/lib/python3.7/dist-packages/pip/_vendor/packaging/markers.py\", line 68, in __str__\n",
            "    return str(self.value)\n",
            "KeyboardInterrupt\n",
            "\n",
            "During handling of the above exception, another exception occurred:\n",
            "\n",
            "Traceback (most recent call last):\n",
            "  File \"/usr/local/bin/pip3\", line 8, in <module>\n",
            "    sys.exit(main())\n",
            "  File \"/usr/local/lib/python3.7/dist-packages/pip/_internal/cli/main.py\", line 71, in main\n",
            "    return command.main(cmd_args)\n",
            "  File \"/usr/local/lib/python3.7/dist-packages/pip/_internal/cli/base_command.py\", line 104, in main\n",
            "    return self._main(args)\n",
            "  File \"/usr/local/lib/python3.7/dist-packages/pip/_internal/cli/base_command.py\", line 213, in _main\n",
            "    logger.debug(\"Exception information:\", exc_info=True)\n",
            "  File \"/usr/lib/python3.7/logging/__init__.py\", line 1366, in debug\n",
            "    self._log(DEBUG, msg, args, **kwargs)\n",
            "  File \"/usr/lib/python3.7/logging/__init__.py\", line 1514, in _log\n",
            "    self.handle(record)\n",
            "  File \"/usr/lib/python3.7/logging/__init__.py\", line 1524, in handle\n",
            "    self.callHandlers(record)\n",
            "  File \"/usr/lib/python3.7/logging/__init__.py\", line 1586, in callHandlers\n",
            "    hdlr.handle(record)\n",
            "  File \"/usr/lib/python3.7/logging/__init__.py\", line 894, in handle\n",
            "    self.emit(record)\n",
            "  File \"/usr/lib/python3.7/logging/handlers.py\", line 71, in emit\n",
            "    logging.FileHandler.emit(self, record)\n",
            "  File \"/usr/lib/python3.7/logging/__init__.py\", line 1127, in emit\n",
            "    StreamHandler.emit(self, record)\n",
            "  File \"/usr/lib/python3.7/logging/__init__.py\", line 1025, in emit\n",
            "    msg = self.format(record)\n",
            "  File \"/usr/lib/python3.7/logging/__init__.py\", line 869, in format\n",
            "    return fmt.format(record)\n",
            "  File \"/usr/local/lib/python3.7/dist-packages/pip/_internal/utils/logging.py\", line 130, in format\n",
            "    formatted = super().format(record)\n",
            "  File \"/usr/lib/python3.7/logging/__init__.py\", line 616, in format\n",
            "    record.exc_text = self.formatException(record.exc_info)\n",
            "  File \"/usr/lib/python3.7/logging/__init__.py\", line 566, in formatException\n",
            "    traceback.print_exception(ei[0], ei[1], tb, None, sio)\n",
            "  File \"/usr/lib/python3.7/traceback.py\", line 104, in print_exception\n",
            "    type(value), value, tb, limit=limit).format(chain=chain):\n",
            "  File \"/usr/lib/python3.7/traceback.py\", line 497, in __init__\n",
            "    _seen=_seen)\n",
            "  File \"/usr/lib/python3.7/traceback.py\", line 508, in __init__\n",
            "    capture_locals=capture_locals)\n",
            "  File \"/usr/lib/python3.7/traceback.py\", line 350, in extract\n",
            "    linecache.lazycache(filename, f.f_globals)\n",
            "  File \"/usr/lib/python3.7/linecache.py\", line 174, in lazycache\n",
            "    get_lines = functools.partial(get_source, name)\n",
            "KeyboardInterrupt\n",
            "Looking in links: https://data.pyg.org/whl/torch-1.8.1+cu102.html\n",
            "Collecting torch-cluster\n",
            "  Downloading https://data.pyg.org/whl/torch-1.8.0%2Bcu102/torch_cluster-1.5.9-cp37-cp37m-linux_x86_64.whl (1.5 MB)\n",
            "\u001b[K     |████████████████████████████████| 1.5 MB 5.3 MB/s \n",
            "\u001b[?25hInstalling collected packages: torch-cluster\n",
            "Successfully installed torch-cluster-1.5.9\n",
            "Looking in links: https://data.pyg.org/whl/torch-1.8.1+cu102.html\n",
            "Requirement already satisfied: torch-spline-conv in /usr/local/lib/python3.7/dist-packages (1.2.1)\n",
            "Exception ignored in: <function _get_module_lock.<locals>.cb at 0x7ff2036f09e0>\n",
            "Traceback (most recent call last):\n",
            "  File \"<frozen importlib._bootstrap>\", line 182, in cb\n",
            "KeyboardInterrupt: \n",
            "Traceback (most recent call last):\n",
            "  File \"<frozen importlib._bootstrap_external>\", line 87, in _path_is_mode_type\n",
            "  File \"<frozen importlib._bootstrap_external>\", line 81, in _path_stat\n",
            "FileNotFoundError: [Errno 2] No such file or directory: '/usr/local/lib/python3.7/dist-packages/mpl_toolkits/__init__.abi3.so'\n",
            "\n",
            "During handling of the above exception, another exception occurred:\n",
            "\n",
            "Traceback (most recent call last):\n",
            "  File \"/usr/local/bin/pip3\", line 5, in <module>\n",
            "    from pip._internal.cli.main import main\n",
            "  File \"/usr/local/lib/python3.7/dist-packages/pip/_internal/cli/main.py\", line 9, in <module>\n",
            "    from pip._internal.cli.autocompletion import autocomplete\n",
            "  File \"/usr/local/lib/python3.7/dist-packages/pip/_internal/cli/autocompletion.py\", line 10, in <module>\n",
            "    from pip._internal.cli.main_parser import create_main_parser\n",
            "  File \"/usr/local/lib/python3.7/dist-packages/pip/_internal/cli/main_parser.py\", line 8, in <module>\n",
            "    from pip._internal.cli import cmdoptions\n",
            "  File \"/usr/local/lib/python3.7/dist-packages/pip/_internal/cli/cmdoptions.py\", line 23, in <module>\n",
            "    from pip._internal.cli.parser import ConfigOptionParser\n",
            "  File \"/usr/local/lib/python3.7/dist-packages/pip/_internal/cli/parser.py\", line 12, in <module>\n",
            "    from pip._internal.configuration import Configuration, ConfigurationError\n",
            "  File \"/usr/local/lib/python3.7/dist-packages/pip/_internal/configuration.py\", line 21, in <module>\n",
            "    from pip._internal.exceptions import (\n",
            "  File \"/usr/local/lib/python3.7/dist-packages/pip/_internal/exceptions.py\", line 7, in <module>\n",
            "    from pip._vendor.pkg_resources import Distribution\n",
            "  File \"/usr/local/lib/python3.7/dist-packages/pip/_vendor/pkg_resources/__init__.py\", line 3251, in <module>\n",
            "    @_call_aside\n",
            "  File \"/usr/local/lib/python3.7/dist-packages/pip/_vendor/pkg_resources/__init__.py\", line 3235, in _call_aside\n",
            "    f(*args, **kwargs)\n",
            "  File \"/usr/local/lib/python3.7/dist-packages/pip/_vendor/pkg_resources/__init__.py\", line 3279, in _initialize_master_working_set\n",
            "    for dist in working_set\n",
            "  File \"/usr/local/lib/python3.7/dist-packages/pip/_vendor/pkg_resources/__init__.py\", line 3279, in <genexpr>\n",
            "    for dist in working_set\n",
            "  File \"/usr/local/lib/python3.7/dist-packages/pip/_vendor/pkg_resources/__init__.py\", line 2782, in activate\n",
            "    fixup_namespace_packages(self.location)\n",
            "  File \"/usr/local/lib/python3.7/dist-packages/pip/_vendor/pkg_resources/__init__.py\", line 2295, in fixup_namespace_packages\n",
            "    subpath = _handle_ns(package, path_item)\n",
            "  File \"/usr/local/lib/python3.7/dist-packages/pip/_vendor/pkg_resources/__init__.py\", line 2201, in _handle_ns\n",
            "    loader = importer.find_module(packageName)\n",
            "  File \"<frozen importlib._bootstrap_external>\", line 431, in _find_module_shim\n",
            "  File \"<frozen importlib._bootstrap_external>\", line 1346, in find_loader\n",
            "  File \"<frozen importlib._bootstrap_external>\", line 1383, in find_spec\n",
            "  File \"<frozen importlib._bootstrap_external>\", line 95, in _path_isfile\n",
            "  File \"<frozen importlib._bootstrap_external>\", line 87, in _path_is_mode_type\n",
            "KeyboardInterrupt\n",
            "Collecting pyvista\n",
            "  Downloading pyvista-0.32.1-py3-none-any.whl (1.4 MB)\n",
            "\u001b[K     |████████████████████████████████| 1.4 MB 5.2 MB/s \n",
            "\u001b[?25hRequirement already satisfied: typing-extensions in /usr/local/lib/python3.7/dist-packages (from pyvista) (3.7.4.3)\n",
            "Collecting vtk\n",
            "  Downloading vtk-9.0.3-cp37-cp37m-manylinux_2_17_x86_64.manylinux2014_x86_64.whl (59.5 MB)\n",
            "\u001b[K     |████████████████████████████████| 59.5 MB 26 kB/s \n"
          ]
        }
      ]
    },
    {
      "cell_type": "code",
      "metadata": {
        "id": "7U_MRvqiBg__",
        "colab": {
          "base_uri": "https://localhost:8080/"
        },
        "outputId": "f950d8e5-6779-4f51-bbbd-b8b2f50b9c5e"
      },
      "source": [
        "!pip install pyvistaqt\n",
        "!apt-get install build-essential python3-dev libopenblas-dev\n",
        "!pip install -U git+https://github.com/NVIDIA/MinkowskiEngine@9f81ae66b33b883cd08ee4f64d08cf633608b118 --no-deps\n"
      ],
      "execution_count": null,
      "outputs": [
        {
          "output_type": "stream",
          "name": "stdout",
          "text": [
            "Collecting pyvistaqt\n",
            "  Downloading pyvistaqt-0.5.0-py3-none-any.whl (162 kB)\n",
            "\u001b[K     |████████████████████████████████| 162 kB 2.3 MB/s \n",
            "\u001b[?25hRequirement already satisfied: QtPy>=1.9.0 in /usr/local/lib/python3.7/dist-packages (from pyvistaqt) (1.11.2)\n",
            "Requirement already satisfied: pyvista>=0.25.0 in /usr/local/lib/python3.7/dist-packages (from pyvistaqt) (0.32.1)\n",
            "Requirement already satisfied: numpy in /usr/local/lib/python3.7/dist-packages (from pyvista>=0.25.0->pyvistaqt) (1.19.5)\n",
            "Requirement already satisfied: meshio<5.0,>=4.0.3 in /usr/local/lib/python3.7/dist-packages (from pyvista>=0.25.0->pyvistaqt) (4.4.6)\n",
            "Requirement already satisfied: appdirs in /usr/local/lib/python3.7/dist-packages (from pyvista>=0.25.0->pyvistaqt) (1.4.4)\n",
            "Requirement already satisfied: vtk in /usr/local/lib/python3.7/dist-packages (from pyvista>=0.25.0->pyvistaqt) (9.0.3)\n",
            "Requirement already satisfied: scooby>=0.5.1 in /usr/local/lib/python3.7/dist-packages (from pyvista>=0.25.0->pyvistaqt) (0.5.7)\n",
            "Requirement already satisfied: typing-extensions in /usr/local/lib/python3.7/dist-packages (from pyvista>=0.25.0->pyvistaqt) (3.7.4.3)\n",
            "Requirement already satisfied: imageio in /usr/local/lib/python3.7/dist-packages (from pyvista>=0.25.0->pyvistaqt) (2.4.1)\n",
            "Requirement already satisfied: pillow in /usr/local/lib/python3.7/dist-packages (from pyvista>=0.25.0->pyvistaqt) (7.1.2)\n",
            "Requirement already satisfied: importlib-metadata in /usr/local/lib/python3.7/dist-packages (from meshio<5.0,>=4.0.3->pyvista>=0.25.0->pyvistaqt) (4.8.1)\n",
            "Requirement already satisfied: zipp>=0.5 in /usr/local/lib/python3.7/dist-packages (from importlib-metadata->meshio<5.0,>=4.0.3->pyvista>=0.25.0->pyvistaqt) (3.5.0)\n",
            "Requirement already satisfied: autobahn>=17.7.1 in /usr/local/lib/python3.7/dist-packages (from vtk->pyvista>=0.25.0->pyvistaqt) (21.3.1)\n",
            "Requirement already satisfied: wslink>=0.1.3 in /usr/local/lib/python3.7/dist-packages (from vtk->pyvista>=0.25.0->pyvistaqt) (1.0.7)\n",
            "Requirement already satisfied: Twisted>=17.5.0 in /usr/local/lib/python3.7/dist-packages (from vtk->pyvista>=0.25.0->pyvistaqt) (21.7.0)\n",
            "Requirement already satisfied: matplotlib>=2.0.0 in /usr/local/lib/python3.7/dist-packages (from vtk->pyvista>=0.25.0->pyvistaqt) (3.2.2)\n",
            "Requirement already satisfied: cryptography>=3.4.6 in /usr/local/lib/python3.7/dist-packages (from autobahn>=17.7.1->vtk->pyvista>=0.25.0->pyvistaqt) (35.0.0)\n",
            "Requirement already satisfied: txaio>=21.2.1 in /usr/local/lib/python3.7/dist-packages (from autobahn>=17.7.1->vtk->pyvista>=0.25.0->pyvistaqt) (21.2.1)\n",
            "Requirement already satisfied: hyperlink>=21.0.0 in /usr/local/lib/python3.7/dist-packages (from autobahn>=17.7.1->vtk->pyvista>=0.25.0->pyvistaqt) (21.0.0)\n",
            "Requirement already satisfied: cffi>=1.12 in /usr/local/lib/python3.7/dist-packages (from cryptography>=3.4.6->autobahn>=17.7.1->vtk->pyvista>=0.25.0->pyvistaqt) (1.14.6)\n",
            "Requirement already satisfied: pycparser in /usr/local/lib/python3.7/dist-packages (from cffi>=1.12->cryptography>=3.4.6->autobahn>=17.7.1->vtk->pyvista>=0.25.0->pyvistaqt) (2.20)\n",
            "Requirement already satisfied: idna>=2.5 in /usr/local/lib/python3.7/dist-packages (from hyperlink>=21.0.0->autobahn>=17.7.1->vtk->pyvista>=0.25.0->pyvistaqt) (2.10)\n",
            "Requirement already satisfied: pyparsing!=2.0.4,!=2.1.2,!=2.1.6,>=2.0.1 in /usr/local/lib/python3.7/dist-packages (from matplotlib>=2.0.0->vtk->pyvista>=0.25.0->pyvistaqt) (2.4.7)\n",
            "Requirement already satisfied: kiwisolver>=1.0.1 in /usr/local/lib/python3.7/dist-packages (from matplotlib>=2.0.0->vtk->pyvista>=0.25.0->pyvistaqt) (1.3.2)\n",
            "Requirement already satisfied: cycler>=0.10 in /usr/local/lib/python3.7/dist-packages (from matplotlib>=2.0.0->vtk->pyvista>=0.25.0->pyvistaqt) (0.10.0)\n",
            "Requirement already satisfied: python-dateutil>=2.1 in /usr/local/lib/python3.7/dist-packages (from matplotlib>=2.0.0->vtk->pyvista>=0.25.0->pyvistaqt) (2.8.2)\n",
            "Requirement already satisfied: six in /usr/local/lib/python3.7/dist-packages (from cycler>=0.10->matplotlib>=2.0.0->vtk->pyvista>=0.25.0->pyvistaqt) (1.15.0)\n",
            "Requirement already satisfied: incremental>=21.3.0 in /usr/local/lib/python3.7/dist-packages (from Twisted>=17.5.0->vtk->pyvista>=0.25.0->pyvistaqt) (21.3.0)\n",
            "Requirement already satisfied: zope.interface>=4.4.2 in /usr/local/lib/python3.7/dist-packages (from Twisted>=17.5.0->vtk->pyvista>=0.25.0->pyvistaqt) (5.4.0)\n",
            "Requirement already satisfied: Automat>=0.8.0 in /usr/local/lib/python3.7/dist-packages (from Twisted>=17.5.0->vtk->pyvista>=0.25.0->pyvistaqt) (20.2.0)\n",
            "Requirement already satisfied: attrs>=19.2.0 in /usr/local/lib/python3.7/dist-packages (from Twisted>=17.5.0->vtk->pyvista>=0.25.0->pyvistaqt) (21.2.0)\n",
            "Requirement already satisfied: constantly>=15.1 in /usr/local/lib/python3.7/dist-packages (from Twisted>=17.5.0->vtk->pyvista>=0.25.0->pyvistaqt) (15.1.0)\n",
            "Requirement already satisfied: aiohttp in /usr/local/lib/python3.7/dist-packages (from wslink>=0.1.3->vtk->pyvista>=0.25.0->pyvistaqt) (3.7.4.post0)\n",
            "Requirement already satisfied: setuptools in /usr/local/lib/python3.7/dist-packages (from zope.interface>=4.4.2->Twisted>=17.5.0->vtk->pyvista>=0.25.0->pyvistaqt) (57.4.0)\n",
            "Requirement already satisfied: chardet<5.0,>=2.0 in /usr/local/lib/python3.7/dist-packages (from aiohttp->wslink>=0.1.3->vtk->pyvista>=0.25.0->pyvistaqt) (3.0.4)\n",
            "Requirement already satisfied: multidict<7.0,>=4.5 in /usr/local/lib/python3.7/dist-packages (from aiohttp->wslink>=0.1.3->vtk->pyvista>=0.25.0->pyvistaqt) (5.1.0)\n",
            "Requirement already satisfied: yarl<2.0,>=1.0 in /usr/local/lib/python3.7/dist-packages (from aiohttp->wslink>=0.1.3->vtk->pyvista>=0.25.0->pyvistaqt) (1.6.3)\n",
            "Requirement already satisfied: async-timeout<4.0,>=3.0 in /usr/local/lib/python3.7/dist-packages (from aiohttp->wslink>=0.1.3->vtk->pyvista>=0.25.0->pyvistaqt) (3.0.1)\n",
            "Installing collected packages: pyvistaqt\n",
            "Successfully installed pyvistaqt-0.5.0\n",
            "Reading package lists... Done\n",
            "Building dependency tree       \n",
            "Reading state information... Done\n",
            "build-essential is already the newest version (12.4ubuntu1).\n",
            "libopenblas-dev is already the newest version (0.2.20+ds-4).\n",
            "python3-dev is already the newest version (3.6.7-1~18.04).\n",
            "python3-dev set to manually installed.\n",
            "0 upgraded, 0 newly installed, 0 to remove and 80 not upgraded.\n",
            "Collecting git+https://github.com/NVIDIA/MinkowskiEngine@9f81ae66b33b883cd08ee4f64d08cf633608b118\n",
            "  Cloning https://github.com/NVIDIA/MinkowskiEngine (to revision 9f81ae66b33b883cd08ee4f64d08cf633608b118) to /tmp/pip-req-build-9oyf6zi1\n",
            "  Running command git clone -q https://github.com/NVIDIA/MinkowskiEngine /tmp/pip-req-build-9oyf6zi1\n",
            "  Running command git rev-parse -q --verify 'sha^9f81ae66b33b883cd08ee4f64d08cf633608b118'\n",
            "  Running command git fetch -q https://github.com/NVIDIA/MinkowskiEngine 9f81ae66b33b883cd08ee4f64d08cf633608b118\n",
            "  Running command git checkout -q 9f81ae66b33b883cd08ee4f64d08cf633608b118\n",
            "Building wheels for collected packages: MinkowskiEngine\n",
            "  Building wheel for MinkowskiEngine (setup.py) ... \u001b[?25l\u001b[?25hcanceled\n",
            "\u001b[31mERROR: Operation cancelled by user\u001b[0m\n"
          ]
        }
      ]
    },
    {
      "cell_type": "markdown",
      "metadata": {
        "id": "0upTEPRr_ofL"
      },
      "source": [
        "We also install torchsparse"
      ]
    },
    {
      "cell_type": "markdown",
      "metadata": {
        "id": "x1Bc0Ait_oc1"
      },
      "source": [
        ""
      ]
    },
    {
      "cell_type": "code",
      "metadata": {
        "id": "_fSreyeXWU1E",
        "colab": {
          "base_uri": "https://localhost:8080/"
        },
        "outputId": "65661791-165b-4733-cf27-cc263b3fbe25"
      },
      "source": [
        "!apt-get install libsparsehash-dev\n",
        "!pip install --upgrade git+https://github.com/mit-han-lab/torchsparse.git@v1.4.0"
      ],
      "execution_count": null,
      "outputs": [
        {
          "output_type": "stream",
          "name": "stdout",
          "text": [
            "Reading package lists... Done\n",
            "Building dependency tree       \n",
            "Reading state information... Done\n",
            "The following NEW packages will be installed:\n",
            "  libsparsehash-dev\n",
            "0 upgraded, 1 newly installed, 0 to remove and 80 not upgraded.\n",
            "Need to get 72.4 kB of archives.\n",
            "After this operation, 612 kB of additional disk space will be used.\n",
            "Get:1 http://archive.ubuntu.com/ubuntu bionic/universe amd64 libsparsehash-dev all 2.0.2-1 [72.4 kB]\n",
            "Fetched 72.4 kB in 1s (115 kB/s)\n",
            "Selecting previously unselected package libsparsehash-dev.\n",
            "(Reading database ... 155026 files and directories currently installed.)\n",
            "Preparing to unpack .../libsparsehash-dev_2.0.2-1_all.deb ...\n",
            "Unpacking libsparsehash-dev (2.0.2-1) ...\n",
            "Setting up libsparsehash-dev (2.0.2-1) ...\n",
            "Collecting git+https://github.com/mit-han-lab/torchsparse.git@v1.4.0\n",
            "  Cloning https://github.com/mit-han-lab/torchsparse.git (to revision v1.4.0) to /tmp/pip-req-build-sfuk9gia\n",
            "  Running command git clone -q https://github.com/mit-han-lab/torchsparse.git /tmp/pip-req-build-sfuk9gia\n",
            "  Running command git checkout -q 74099d10a51c71c14318bce63d6421f698b24f24\n",
            "Building wheels for collected packages: torchsparse\n",
            "  Building wheel for torchsparse (setup.py) ... \u001b[?25l\u001b[?25hcanceled\n",
            "\u001b[31mERROR: Operation cancelled by user\u001b[0m\n",
            "Traceback (most recent call last):\n",
            "  File \"/usr/local/bin/pip3\", line 8, in <module>\n",
            "    sys.exit(main())\n",
            "  File \"/usr/local/lib/python3.7/dist-packages/pip/_internal/cli/main.py\", line 71, in main\n",
            "    return command.main(cmd_args)\n",
            "  File \"/usr/local/lib/python3.7/dist-packages/pip/_internal/cli/base_command.py\", line 104, in main\n",
            "    return self._main(args)\n",
            "  File \"/usr/lib/python3.7/contextlib.py\", line 119, in __exit__\n",
            "    next(self.gen)\n",
            "  File \"/usr/local/lib/python3.7/dist-packages/pip/_internal/cli/command_context.py\", line 22, in main_context\n",
            "    yield\n",
            "  File \"/usr/lib/python3.7/contextlib.py\", line 524, in __exit__\n",
            "    raise exc_details[1]\n",
            "  File \"/usr/lib/python3.7/contextlib.py\", line 130, in __exit__\n",
            "    self.gen.throw(type, value, traceback)\n",
            "  File \"/usr/local/lib/python3.7/dist-packages/pip/_internal/utils/temp_dir.py\", line 75, in tempdir_registry\n",
            "    yield _tempdir_registry\n",
            "  File \"/usr/lib/python3.7/contextlib.py\", line 509, in __exit__\n",
            "    if cb(*exc_details):\n",
            "  File \"/usr/lib/python3.7/contextlib.py\", line 377, in _exit_wrapper\n",
            "    return cm_exit(cm, exc_type, exc, tb)\n",
            "  File \"/usr/lib/python3.7/contextlib.py\", line 119, in __exit__\n",
            "    next(self.gen)\n",
            "  File \"/usr/local/lib/python3.7/dist-packages/pip/_internal/utils/temp_dir.py\", line 37, in global_tempdir_manager\n",
            "    _tempdir_manager = old_tempdir_manager\n",
            "  File \"/usr/lib/python3.7/contextlib.py\", line 524, in __exit__\n",
            "    raise exc_details[1]\n",
            "  File \"/usr/lib/python3.7/contextlib.py\", line 509, in __exit__\n",
            "    if cb(*exc_details):\n",
            "  File \"/usr/lib/python3.7/contextlib.py\", line 377, in _exit_wrapper\n",
            "    return cm_exit(cm, exc_type, exc, tb)\n",
            "  File \"/usr/local/lib/python3.7/dist-packages/pip/_internal/utils/temp_dir.py\", line 165, in __exit__\n",
            "    self.cleanup()\n",
            "  File \"/usr/local/lib/python3.7/dist-packages/pip/_internal/utils/temp_dir.py\", line 184, in cleanup\n",
            "    rmtree(self._path)\n",
            "  File \"/usr/local/lib/python3.7/dist-packages/pip/_vendor/tenacity/__init__.py\", line 341, in wrapped_f\n",
            "    return self(f, *args, **kw)\n",
            "  File \"/usr/local/lib/python3.7/dist-packages/pip/_vendor/tenacity/__init__.py\", line 432, in __call__\n",
            "    do = self.iter(retry_state=retry_state)\n",
            "  File \"/usr/local/lib/python3.7/dist-packages/pip/_vendor/tenacity/__init__.py\", line 369, in iter\n",
            "    return fut.result()\n",
            "  File \"/usr/lib/python3.7/concurrent/futures/_base.py\", line 428, in result\n",
            "    return self.__get_result()\n",
            "  File \"/usr/lib/python3.7/concurrent/futures/_base.py\", line 384, in __get_result\n",
            "    raise self._exception\n",
            "  File \"/usr/local/lib/python3.7/dist-packages/pip/_vendor/tenacity/__init__.py\", line 435, in __call__\n",
            "    result = fn(*args, **kwargs)\n",
            "  File \"/usr/local/lib/python3.7/dist-packages/pip/_internal/utils/misc.py\", line 135, in rmtree\n",
            "    shutil.rmtree(dir, ignore_errors=ignore_errors, onerror=rmtree_errorhandler)\n",
            "  File \"/usr/lib/python3.7/shutil.py\", line 494, in rmtree\n",
            "    _rmtree_safe_fd(fd, path, onerror)\n",
            "  File \"/usr/lib/python3.7/shutil.py\", line 432, in _rmtree_safe_fd\n",
            "    _rmtree_safe_fd(dirfd, fullname, onerror)\n",
            "  File \"/usr/lib/python3.7/shutil.py\", line 450, in _rmtree_safe_fd\n",
            "    os.unlink(entry.name, dir_fd=topfd)\n",
            "KeyboardInterrupt\n"
          ]
        }
      ]
    },
    {
      "cell_type": "markdown",
      "metadata": {
        "id": "l0q4WUP1_xL2"
      },
      "source": [
        "## Registration\n",
        "\n",
        "We will use pyvista for the visualization. But it is not interactive..."
      ]
    },
    {
      "cell_type": "code",
      "metadata": {
        "id": "NPVXHmzQMu_R",
        "colab": {
          "base_uri": "https://localhost:8080/",
          "height": 419
        },
        "outputId": "0fe47648-022d-4aa6-da85-c628ae498dda"
      },
      "source": [
        "import numpy as np\n",
        "import open3d as o3d\n",
        "import os\n",
        "import os.path as osp\n",
        "import pathlib\n",
        "import requests\n",
        "import torch\n",
        "from torch_points3d.applications.pretrained_api import PretainedRegistry\n",
        "from torch_points3d.core.data_transform import GridSampling3D, AddFeatByKey, AddOnes, Random3AxisRotation\n",
        "from torch_points3d.datasets.registration.pair import Pair\n",
        "from torch_points3d.utils.registration import get_matches, fast_global_registration\n",
        "from torch_geometric.data import Data\n",
        "from torch_geometric.transforms import Compose\n",
        "from torch_points3d.metrics.registration_metrics import compute_hit_ratio\n",
        "from zipfile import ZipFile\n",
        "\n",
        "import pyvista as pv\n",
        "import panel as pn\n",
        "\n",
        "pn.extension('vtk')\n",
        "os.system('/usr/bin/Xvfb :99 -screen 0 1024x768x24 &')\n",
        "os.environ['DISPLAY'] = ':99'\n",
        "os.environ['PYVISTA_OFF_SCREEN'] = 'True'\n",
        "os.environ['PYVISTA_USE_PANEL'] = 'True'"
      ],
      "execution_count": null,
      "outputs": [
        {
          "output_type": "error",
          "ename": "OSError",
          "evalue": "ignored",
          "traceback": [
            "\u001b[0;31m---------------------------------------------------------------------------\u001b[0m",
            "\u001b[0;31mOSError\u001b[0m                                   Traceback (most recent call last)",
            "\u001b[0;32m<ipython-input-5-ccdc9034c219>\u001b[0m in \u001b[0;36m<module>\u001b[0;34m()\u001b[0m\n\u001b[1;32m      6\u001b[0m \u001b[0;32mimport\u001b[0m \u001b[0mrequests\u001b[0m\u001b[0;34m\u001b[0m\u001b[0;34m\u001b[0m\u001b[0m\n\u001b[1;32m      7\u001b[0m \u001b[0;32mimport\u001b[0m \u001b[0mtorch\u001b[0m\u001b[0;34m\u001b[0m\u001b[0;34m\u001b[0m\u001b[0m\n\u001b[0;32m----> 8\u001b[0;31m \u001b[0;32mfrom\u001b[0m \u001b[0mtorch_points3d\u001b[0m\u001b[0;34m.\u001b[0m\u001b[0mapplications\u001b[0m\u001b[0;34m.\u001b[0m\u001b[0mpretrained_api\u001b[0m \u001b[0;32mimport\u001b[0m \u001b[0mPretainedRegistry\u001b[0m\u001b[0;34m\u001b[0m\u001b[0;34m\u001b[0m\u001b[0m\n\u001b[0m\u001b[1;32m      9\u001b[0m \u001b[0;32mfrom\u001b[0m \u001b[0mtorch_points3d\u001b[0m\u001b[0;34m.\u001b[0m\u001b[0mcore\u001b[0m\u001b[0;34m.\u001b[0m\u001b[0mdata_transform\u001b[0m \u001b[0;32mimport\u001b[0m \u001b[0mGridSampling3D\u001b[0m\u001b[0;34m,\u001b[0m \u001b[0mAddFeatByKey\u001b[0m\u001b[0;34m,\u001b[0m \u001b[0mAddOnes\u001b[0m\u001b[0;34m,\u001b[0m \u001b[0mRandom3AxisRotation\u001b[0m\u001b[0;34m\u001b[0m\u001b[0;34m\u001b[0m\u001b[0m\n\u001b[1;32m     10\u001b[0m \u001b[0;32mfrom\u001b[0m \u001b[0mtorch_points3d\u001b[0m\u001b[0;34m.\u001b[0m\u001b[0mdatasets\u001b[0m\u001b[0;34m.\u001b[0m\u001b[0mregistration\u001b[0m\u001b[0;34m.\u001b[0m\u001b[0mpair\u001b[0m \u001b[0;32mimport\u001b[0m \u001b[0mPair\u001b[0m\u001b[0;34m\u001b[0m\u001b[0;34m\u001b[0m\u001b[0m\n",
            "\u001b[0;32m/usr/local/lib/python3.7/dist-packages/torch_points3d/applications/pretrained_api.py\u001b[0m in \u001b[0;36m<module>\u001b[0;34m()\u001b[0m\n\u001b[1;32m      5\u001b[0m \u001b[0;34m\u001b[0m\u001b[0m\n\u001b[1;32m      6\u001b[0m \u001b[0;31m# Import building function for model and dataset\u001b[0m\u001b[0;34m\u001b[0m\u001b[0;34m\u001b[0m\u001b[0;34m\u001b[0m\u001b[0m\n\u001b[0;32m----> 7\u001b[0;31m \u001b[0;32mfrom\u001b[0m \u001b[0mtorch_points3d\u001b[0m\u001b[0;34m.\u001b[0m\u001b[0mdatasets\u001b[0m\u001b[0;34m.\u001b[0m\u001b[0mdataset_factory\u001b[0m \u001b[0;32mimport\u001b[0m \u001b[0minstantiate_dataset\u001b[0m\u001b[0;34m\u001b[0m\u001b[0;34m\u001b[0m\u001b[0m\n\u001b[0m\u001b[1;32m      8\u001b[0m \u001b[0;32mfrom\u001b[0m \u001b[0mtorch_points3d\u001b[0m\u001b[0;34m.\u001b[0m\u001b[0mmodels\u001b[0m\u001b[0;34m.\u001b[0m\u001b[0mmodel_factory\u001b[0m \u001b[0;32mimport\u001b[0m \u001b[0minstantiate_model\u001b[0m\u001b[0;34m\u001b[0m\u001b[0;34m\u001b[0m\u001b[0m\n\u001b[1;32m      9\u001b[0m \u001b[0;34m\u001b[0m\u001b[0m\n",
            "\u001b[0;32m/usr/local/lib/python3.7/dist-packages/torch_points3d/datasets/dataset_factory.py\u001b[0m in \u001b[0;36m<module>\u001b[0;34m()\u001b[0m\n\u001b[1;32m      4\u001b[0m \u001b[0;32mimport\u001b[0m \u001b[0mlogging\u001b[0m\u001b[0;34m\u001b[0m\u001b[0;34m\u001b[0m\u001b[0m\n\u001b[1;32m      5\u001b[0m \u001b[0;34m\u001b[0m\u001b[0m\n\u001b[0;32m----> 6\u001b[0;31m \u001b[0;32mfrom\u001b[0m \u001b[0mtorch_points3d\u001b[0m\u001b[0;34m.\u001b[0m\u001b[0mdatasets\u001b[0m\u001b[0;34m.\u001b[0m\u001b[0mbase_dataset\u001b[0m \u001b[0;32mimport\u001b[0m \u001b[0mBaseDataset\u001b[0m\u001b[0;34m\u001b[0m\u001b[0;34m\u001b[0m\u001b[0m\n\u001b[0m\u001b[1;32m      7\u001b[0m \u001b[0;34m\u001b[0m\u001b[0m\n\u001b[1;32m      8\u001b[0m \u001b[0mlog\u001b[0m \u001b[0;34m=\u001b[0m \u001b[0mlogging\u001b[0m\u001b[0;34m.\u001b[0m\u001b[0mgetLogger\u001b[0m\u001b[0;34m(\u001b[0m\u001b[0m__name__\u001b[0m\u001b[0;34m)\u001b[0m\u001b[0;34m\u001b[0m\u001b[0;34m\u001b[0m\u001b[0m\n",
            "\u001b[0;32m/usr/local/lib/python3.7/dist-packages/torch_points3d/datasets/base_dataset.py\u001b[0m in \u001b[0;36m<module>\u001b[0;34m()\u001b[0m\n\u001b[1;32m      6\u001b[0m \u001b[0;32mimport\u001b[0m \u001b[0mnumpy\u001b[0m \u001b[0;32mas\u001b[0m \u001b[0mnp\u001b[0m\u001b[0;34m\u001b[0m\u001b[0;34m\u001b[0m\u001b[0m\n\u001b[1;32m      7\u001b[0m \u001b[0;32mimport\u001b[0m \u001b[0mtorch\u001b[0m\u001b[0;34m\u001b[0m\u001b[0;34m\u001b[0m\u001b[0m\n\u001b[0;32m----> 8\u001b[0;31m \u001b[0;32mimport\u001b[0m \u001b[0mtorch_geometric\u001b[0m\u001b[0;34m\u001b[0m\u001b[0;34m\u001b[0m\u001b[0m\n\u001b[0m\u001b[1;32m      9\u001b[0m \u001b[0;32mfrom\u001b[0m \u001b[0mtorch_geometric\u001b[0m\u001b[0;34m.\u001b[0m\u001b[0mtransforms\u001b[0m \u001b[0;32mimport\u001b[0m \u001b[0mCompose\u001b[0m\u001b[0;34m,\u001b[0m \u001b[0mFixedPoints\u001b[0m\u001b[0;34m\u001b[0m\u001b[0;34m\u001b[0m\u001b[0m\n\u001b[1;32m     10\u001b[0m \u001b[0;32mimport\u001b[0m \u001b[0mcopy\u001b[0m\u001b[0;34m\u001b[0m\u001b[0;34m\u001b[0m\u001b[0m\n",
            "\u001b[0;32m/usr/local/lib/python3.7/dist-packages/torch_geometric/__init__.py\u001b[0m in \u001b[0;36m<module>\u001b[0;34m()\u001b[0m\n\u001b[1;32m      3\u001b[0m \u001b[0;34m\u001b[0m\u001b[0m\n\u001b[1;32m      4\u001b[0m \u001b[0;32mfrom\u001b[0m \u001b[0;34m.\u001b[0m\u001b[0mdebug\u001b[0m \u001b[0;32mimport\u001b[0m \u001b[0mis_debug_enabled\u001b[0m\u001b[0;34m,\u001b[0m \u001b[0mdebug\u001b[0m\u001b[0;34m,\u001b[0m \u001b[0mset_debug\u001b[0m\u001b[0;34m\u001b[0m\u001b[0;34m\u001b[0m\u001b[0m\n\u001b[0;32m----> 5\u001b[0;31m \u001b[0;32mimport\u001b[0m \u001b[0mtorch_geometric\u001b[0m\u001b[0;34m.\u001b[0m\u001b[0mdata\u001b[0m\u001b[0;34m\u001b[0m\u001b[0;34m\u001b[0m\u001b[0m\n\u001b[0m\u001b[1;32m      6\u001b[0m \u001b[0;32mimport\u001b[0m \u001b[0mtorch_geometric\u001b[0m\u001b[0;34m.\u001b[0m\u001b[0mtransforms\u001b[0m\u001b[0;34m\u001b[0m\u001b[0;34m\u001b[0m\u001b[0m\n\u001b[1;32m      7\u001b[0m \u001b[0;32mimport\u001b[0m \u001b[0mtorch_geometric\u001b[0m\u001b[0;34m.\u001b[0m\u001b[0mutils\u001b[0m\u001b[0;34m\u001b[0m\u001b[0;34m\u001b[0m\u001b[0m\n",
            "\u001b[0;32m/usr/local/lib/python3.7/dist-packages/torch_geometric/data/__init__.py\u001b[0m in \u001b[0;36m<module>\u001b[0;34m()\u001b[0m\n\u001b[0;32m----> 1\u001b[0;31m \u001b[0;32mfrom\u001b[0m \u001b[0;34m.\u001b[0m\u001b[0mdata\u001b[0m \u001b[0;32mimport\u001b[0m \u001b[0mData\u001b[0m\u001b[0;34m\u001b[0m\u001b[0;34m\u001b[0m\u001b[0m\n\u001b[0m\u001b[1;32m      2\u001b[0m \u001b[0;32mfrom\u001b[0m \u001b[0;34m.\u001b[0m\u001b[0mtemporal\u001b[0m \u001b[0;32mimport\u001b[0m \u001b[0mTemporalData\u001b[0m\u001b[0;34m\u001b[0m\u001b[0;34m\u001b[0m\u001b[0m\n\u001b[1;32m      3\u001b[0m \u001b[0;32mfrom\u001b[0m \u001b[0;34m.\u001b[0m\u001b[0mbatch\u001b[0m \u001b[0;32mimport\u001b[0m \u001b[0mBatch\u001b[0m\u001b[0;34m\u001b[0m\u001b[0;34m\u001b[0m\u001b[0m\n\u001b[1;32m      4\u001b[0m \u001b[0;32mfrom\u001b[0m \u001b[0;34m.\u001b[0m\u001b[0mdataset\u001b[0m \u001b[0;32mimport\u001b[0m \u001b[0mDataset\u001b[0m\u001b[0;34m\u001b[0m\u001b[0;34m\u001b[0m\u001b[0m\n\u001b[1;32m      5\u001b[0m \u001b[0;32mfrom\u001b[0m \u001b[0;34m.\u001b[0m\u001b[0min_memory_dataset\u001b[0m \u001b[0;32mimport\u001b[0m \u001b[0mInMemoryDataset\u001b[0m\u001b[0;34m\u001b[0m\u001b[0;34m\u001b[0m\u001b[0m\n",
            "\u001b[0;32m/usr/local/lib/python3.7/dist-packages/torch_geometric/data/data.py\u001b[0m in \u001b[0;36m<module>\u001b[0;34m()\u001b[0m\n\u001b[1;32m      6\u001b[0m \u001b[0;32mimport\u001b[0m \u001b[0mtorch\u001b[0m\u001b[0;34m\u001b[0m\u001b[0;34m\u001b[0m\u001b[0m\n\u001b[1;32m      7\u001b[0m \u001b[0;32mimport\u001b[0m \u001b[0mtorch_geometric\u001b[0m\u001b[0;34m\u001b[0m\u001b[0;34m\u001b[0m\u001b[0m\n\u001b[0;32m----> 8\u001b[0;31m \u001b[0;32mfrom\u001b[0m \u001b[0mtorch_sparse\u001b[0m \u001b[0;32mimport\u001b[0m \u001b[0mcoalesce\u001b[0m\u001b[0;34m,\u001b[0m \u001b[0mSparseTensor\u001b[0m\u001b[0;34m\u001b[0m\u001b[0;34m\u001b[0m\u001b[0m\n\u001b[0m\u001b[1;32m      9\u001b[0m from torch_geometric.utils import (contains_isolated_nodes,\n\u001b[1;32m     10\u001b[0m                                    contains_self_loops, is_undirected)\n",
            "\u001b[0;32m/usr/local/lib/python3.7/dist-packages/torch_sparse/__init__.py\u001b[0m in \u001b[0;36m<module>\u001b[0;34m()\u001b[0m\n\u001b[1;32m     14\u001b[0m ]:\n\u001b[1;32m     15\u001b[0m     torch.ops.load_library(importlib.machinery.PathFinder().find_spec(\n\u001b[0;32m---> 16\u001b[0;31m         f'{library}_{suffix}', [osp.dirname(__file__)]).origin)\n\u001b[0m\u001b[1;32m     17\u001b[0m \u001b[0;34m\u001b[0m\u001b[0m\n\u001b[1;32m     18\u001b[0m \u001b[0;32mif\u001b[0m \u001b[0mtorch\u001b[0m\u001b[0;34m.\u001b[0m\u001b[0mcuda\u001b[0m\u001b[0;34m.\u001b[0m\u001b[0mis_available\u001b[0m\u001b[0;34m(\u001b[0m\u001b[0;34m)\u001b[0m\u001b[0;34m:\u001b[0m  \u001b[0;31m# pragma: no cover\u001b[0m\u001b[0;34m\u001b[0m\u001b[0;34m\u001b[0m\u001b[0m\n",
            "\u001b[0;32m/usr/local/lib/python3.7/dist-packages/torch/_ops.py\u001b[0m in \u001b[0;36mload_library\u001b[0;34m(self, path)\u001b[0m\n\u001b[1;32m    102\u001b[0m             \u001b[0;31m# static (global) initialization code in order to register custom\u001b[0m\u001b[0;34m\u001b[0m\u001b[0;34m\u001b[0m\u001b[0;34m\u001b[0m\u001b[0m\n\u001b[1;32m    103\u001b[0m             \u001b[0;31m# operators with the JIT.\u001b[0m\u001b[0;34m\u001b[0m\u001b[0;34m\u001b[0m\u001b[0;34m\u001b[0m\u001b[0m\n\u001b[0;32m--> 104\u001b[0;31m             \u001b[0mctypes\u001b[0m\u001b[0;34m.\u001b[0m\u001b[0mCDLL\u001b[0m\u001b[0;34m(\u001b[0m\u001b[0mpath\u001b[0m\u001b[0;34m)\u001b[0m\u001b[0;34m\u001b[0m\u001b[0;34m\u001b[0m\u001b[0m\n\u001b[0m\u001b[1;32m    105\u001b[0m         \u001b[0mself\u001b[0m\u001b[0;34m.\u001b[0m\u001b[0mloaded_libraries\u001b[0m\u001b[0;34m.\u001b[0m\u001b[0madd\u001b[0m\u001b[0;34m(\u001b[0m\u001b[0mpath\u001b[0m\u001b[0;34m)\u001b[0m\u001b[0;34m\u001b[0m\u001b[0;34m\u001b[0m\u001b[0m\n\u001b[1;32m    106\u001b[0m \u001b[0;34m\u001b[0m\u001b[0m\n",
            "\u001b[0;32m/usr/lib/python3.7/ctypes/__init__.py\u001b[0m in \u001b[0;36m__init__\u001b[0;34m(self, name, mode, handle, use_errno, use_last_error)\u001b[0m\n\u001b[1;32m    362\u001b[0m \u001b[0;34m\u001b[0m\u001b[0m\n\u001b[1;32m    363\u001b[0m         \u001b[0;32mif\u001b[0m \u001b[0mhandle\u001b[0m \u001b[0;32mis\u001b[0m \u001b[0;32mNone\u001b[0m\u001b[0;34m:\u001b[0m\u001b[0;34m\u001b[0m\u001b[0;34m\u001b[0m\u001b[0m\n\u001b[0;32m--> 364\u001b[0;31m             \u001b[0mself\u001b[0m\u001b[0;34m.\u001b[0m\u001b[0m_handle\u001b[0m \u001b[0;34m=\u001b[0m \u001b[0m_dlopen\u001b[0m\u001b[0;34m(\u001b[0m\u001b[0mself\u001b[0m\u001b[0;34m.\u001b[0m\u001b[0m_name\u001b[0m\u001b[0;34m,\u001b[0m \u001b[0mmode\u001b[0m\u001b[0;34m)\u001b[0m\u001b[0;34m\u001b[0m\u001b[0;34m\u001b[0m\u001b[0m\n\u001b[0m\u001b[1;32m    365\u001b[0m         \u001b[0;32melse\u001b[0m\u001b[0;34m:\u001b[0m\u001b[0;34m\u001b[0m\u001b[0;34m\u001b[0m\u001b[0m\n\u001b[1;32m    366\u001b[0m             \u001b[0mself\u001b[0m\u001b[0;34m.\u001b[0m\u001b[0m_handle\u001b[0m \u001b[0;34m=\u001b[0m \u001b[0mhandle\u001b[0m\u001b[0;34m\u001b[0m\u001b[0;34m\u001b[0m\u001b[0m\n",
            "\u001b[0;31mOSError\u001b[0m: /usr/local/lib/python3.7/dist-packages/torch_sparse/_version_cuda.so: undefined symbol: _ZN3c106detail23torchInternalAssertFailEPKcS2_jS2_S2_"
          ]
        }
      ]
    },
    {
      "cell_type": "markdown",
      "metadata": {
        "id": "AET-aTq2_-7-"
      },
      "source": [
        "We need to download the datasets, and the models"
      ]
    },
    {
      "cell_type": "code",
      "metadata": {
        "id": "aFs0aBZDWUwv"
      },
      "source": [
        "MODEL = {\"MS_SVCONV_2cm_X2_3head_3dm.pt\": \"https://cloud.mines-paristech.fr/index.php/s/hRc6y2YIFtYsGAI/download\",\n",
        "         \"MS_SVCONV_4cm_X2_3head_eth.pt\": \"https://cloud.mines-paristech.fr/index.php/s/pUmGPtHUG2ASxlJ/download\"}\n",
        "DATA = {\"gazebo_winter_12.pcd\": \"https://cloud.mines-paristech.fr/index.php/s/zgO88hYFeogTj2s/download\",\n",
        "        \"gazebo_winter_11.pcd\": \"https://cloud.mines-paristech.fr/index.php/s/NpsabVL7bz5qFEe/download\",\n",
        "        \"kitchen_0.ply\": \"https://cloud.mines-paristech.fr/index.php/s/lArxiaV0DPo4bBU/download\",\n",
        "        \"kitchen_10.ply\": \"https://cloud.mines-paristech.fr/index.php/s/357BXcA2qcrw2Uy/download\"}\n",
        "\n",
        "def download(url, out, name):\n",
        "  \"\"\"\n",
        "  download a file and extract the zip file\n",
        "  \"\"\"\n",
        "  req = requests.get(url)\n",
        "  pathlib.Path(out).mkdir(exist_ok=True)\n",
        "  with open(osp.join(out, name), \"wb\") as archive:\n",
        "    archive.write(req.content)\n",
        "def extract(out, name):\n",
        "  with ZipFile(osp.join(out, name+\".zip\"), \"r\") as zip_obj:\n",
        "    zip_obj.extractall(osp.join(out, name))\n",
        "# Download Models and data for the demo\n",
        "download(MODEL[\"MS_SVCONV_2cm_X2_3head_3dm.pt\"], \"models\", \"MS_SVCONV_2cm_X2_3head_3dm.pt\")\n",
        "download(MODEL[\"MS_SVCONV_4cm_X2_3head_eth.pt\"], \"models\", \"MS_SVCONV_4cm_X2_3head_eth.pt\")\n",
        "download(DATA[\"gazebo_winter_12.pcd\"], \"data\", \"gazebo_winter_12.pcd\")\n",
        "download(DATA[\"gazebo_winter_11.pcd\"], \"data\", \"gazebo_winter_11.pcd\")\n",
        "download(DATA[\"kitchen_0.ply\"], \"data\", \"kitchen_0.ply\")\n",
        "download(DATA[\"kitchen_10.ply\"], \"data\", \"kitchen_10.ply\")\n",
        "\n",
        "\n"
      ],
      "execution_count": null,
      "outputs": []
    },
    {
      "cell_type": "code",
      "metadata": {
        "id": "GNxw7wNb8Edi"
      },
      "source": [
        "def read_pcd(path):\n",
        "  pcd = o3d.io.read_point_cloud(path)\n",
        "  data = Pair(pos=torch.from_numpy(np.asarray(pcd.points)).float(), batch=torch.zeros(len(pcd.points)).long())\n",
        "  return data"
      ],
      "execution_count": null,
      "outputs": []
    },
    {
      "cell_type": "markdown",
      "metadata": {
        "id": "2rpBdgsBAHuN"
      },
      "source": [
        "modify the variable `choice_data` and `choice_model` if you want to change the dataset and the model. \n",
        "For the transformation, we perform random rotation beforehand just to show that MS-SVConv is rotation invariant. "
      ]
    },
    {
      "cell_type": "code",
      "metadata": {
        "id": "1r4jSZWiungd"
      },
      "source": [
        "#@title Data and Model\n",
        "#@markdown Please choose the data and the model you want\n",
        "choice_data = \"3dm\"  #@param ['eth', '3dm']\n",
        "choice_model = \"3dm\"  #@param ['eth', '3dm']\n",
        "\n"
      ],
      "execution_count": null,
      "outputs": []
    },
    {
      "cell_type": "code",
      "metadata": {
        "id": "egHArbbq6ISY"
      },
      "source": [
        "\n",
        "# DATA\n",
        "pcd_path = {\n",
        "    \"eth\": [\"data/gazebo_winter_12.pcd\", \"data/gazebo_winter_11.pcd\"],\n",
        "    \"3dm\": [\"data/kitchen_0.ply\", \"data/kitchen_10.ply\"] \n",
        "}\n",
        "# Model\n",
        "pcd_model = {\n",
        "    \"eth\": \"models/MS_SVCONV_4cm_X2_3head_eth.pt\",\n",
        "    \"3dm\": \"models/MS_SVCONV_2cm_X2_3head_3dm.pt\"\n",
        "}\n",
        "\n",
        "# Data augmentation\n",
        "transfo_3dm = Compose([Random3AxisRotation(rot_x=180, rot_y=180, rot_z=180), GridSampling3D(size=0.02, quantize_coords=True, mode='last'), AddOnes(), AddFeatByKey(add_to_x=True, feat_name=\"ones\")])\n",
        "transfo_eth = Compose([Random3AxisRotation(rot_x=180, rot_y=180, rot_z=180), GridSampling3D(size=0.04, quantize_coords=True, mode='last'), AddOnes(), AddFeatByKey(add_to_x=True, feat_name=\"ones\")])\n",
        "pcd_DA = {\n",
        "    \"eth\": transfo_eth,\n",
        "    \"3dm\": transfo_3dm\n",
        "}\n",
        "\n",
        "model = PretainedRegistry.from_file(pcd_model[choice_model], mock_property={})\n",
        "\n",
        "data_s = pcd_DA[choice_model](read_pcd(pcd_path[choice_data][0]))\n",
        "data_t = pcd_DA[choice_model](read_pcd(pcd_path[choice_data][1]))\n",
        "\n",
        "\n",
        "#pl1 = pvqt.BackgroundPlotter()\n",
        "pl1 = pv.Plotter(notebook=True)\n",
        "pl1.add_points(data_s.pos.numpy(),color=[0.9, 0.7, 0.1])\n",
        "pl1.add_points(data_t.pos.numpy(),color=[0.1, 0.7, 0.9])\n",
        "\n",
        "pl1.enable_eye_dome_lighting()\n",
        "pl1.show()"
      ],
      "execution_count": null,
      "outputs": []
    },
    {
      "cell_type": "code",
      "metadata": {
        "id": "hbeevGTAU52_"
      },
      "source": [
        "def ransac(pos_s, pos_t, feat_s, feat_t, distance_threshold=0.1):\n",
        "  pcd_s = o3d.geometry.PointCloud()\n",
        "  pcd_s.points = o3d.utility.Vector3dVector(pos_s.numpy())\n",
        "  pcd_t = o3d.geometry.PointCloud()\n",
        "  pcd_t.points = o3d.utility.Vector3dVector(pos_t.numpy())\n",
        "\n",
        "  f_s = o3d.pipelines.registration.Feature()\n",
        "  f_s.data = feat_s.T.numpy()\n",
        "  f_t = o3d.pipelines.registration.Feature()\n",
        "  f_t.data = feat_t.T.numpy()\n",
        "  result = o3d.pipelines.registration.registration_ransac_based_on_feature_matching(\n",
        "      source=pcd_s, target=pcd_t, source_feature=f_s, target_feature=f_t, \n",
        "      mutual_filter=True,\n",
        "      max_correspondence_distance=distance_threshold,\n",
        "      estimation_method=o3d.pipelines.registration.TransformationEstimationPointToPoint(False),\n",
        "      ransac_n=4,\n",
        "      checkers=[o3d.pipelines.registration.CorrespondenceCheckerBasedOnEdgeLength(0.9),\n",
        "       o3d.pipelines.registration.CorrespondenceCheckerBasedOnDistance(distance_threshold)],\n",
        "      criteria=o3d.pipelines.registration.RANSACConvergenceCriteria(4000000, 500))\n",
        "  return torch.from_numpy(result.transformation).float()"
      ],
      "execution_count": null,
      "outputs": []
    },
    {
      "cell_type": "markdown",
      "metadata": {
        "id": "mo8dbgNFApNv"
      },
      "source": [
        "To registrate, we use RANSAC of Open3D, but it's possible to use an other estimator (such as Fast Global Registration or TEASER)"
      ]
    },
    {
      "cell_type": "code",
      "metadata": {
        "id": "xZddsisSVtKr"
      },
      "source": [
        "# Let us registrate !!\n",
        "\n",
        "# Compute the matches\n",
        "with torch.no_grad():\n",
        "  model.set_input(data_s, \"cuda\")\n",
        "  feat_s = model.forward()\n",
        "  model.set_input(data_t, \"cuda\")\n",
        "  feat_t = model.forward()\n",
        "# select random points and compute transformation using FGR\n",
        "rand_s = torch.randint(0, len(feat_s), (5000, ))\n",
        "rand_t = torch.randint(0, len(feat_t), (5000, ))\n",
        "# matches = get_matches(feat_s[rand_s], feat_t[rand_t], sym=True)\n",
        "T_est = ransac(data_s.pos[rand_s], data_t.pos[rand_t], feat_s[rand_s], feat_t[rand_t])\n",
        "print(T_est)"
      ],
      "execution_count": null,
      "outputs": []
    },
    {
      "cell_type": "code",
      "metadata": {
        "id": "5dGG8AbpCzW6"
      },
      "source": [
        "pl2 = pv.Plotter(notebook=True)\n",
        "transformed = data_s.pos @ T_est[:3, :3].T + T_est[:3, 3]\n",
        "pl2.add_points(np.asarray(transformed.cpu().numpy()),color=[0.9, 0.7, 0.1])\n",
        "pl2.add_points(np.asarray(data_t.pos.cpu().numpy()),color=[0.1, 0.7, 0.9])\n",
        "pl2.enable_eye_dome_lighting()\n",
        "pl2.show()"
      ],
      "execution_count": null,
      "outputs": []
    },
    {
      "cell_type": "markdown",
      "metadata": {
        "id": "Rd5Yv9K-A__Y"
      },
      "source": [
        "That's it ! Now, you know how to use MS-SVConv ! Don't hesitate using it in your projects. And if you like it, please cite our work :\n",
        "```\n",
        "@inproceedings{horache2021mssvconv,\n",
        "      title={3D Point Cloud Registration with Multi-Scale Architecture and Unsupervised Transfer Learning}, \n",
        "      author={Sofiane Horache and Jean-Emmanuel Deschaud and François Goulette},\n",
        "      year={2021},\n",
        "      journal={arXiv preprint arXiv:2103.14533}\n",
        "}\n",
        "```"
      ]
    },
    {
      "cell_type": "code",
      "metadata": {
        "id": "YhVqaY5Mh_A2"
      },
      "source": [
        ""
      ],
      "execution_count": null,
      "outputs": []
    }
  ]
}