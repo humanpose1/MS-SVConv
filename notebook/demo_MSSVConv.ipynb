{
  "nbformat": 4,
  "nbformat_minor": 0,
  "metadata": {
    "colab": {
      "name": "demo_MSSVConv.ipynb",
      "provenance": [],
      "collapsed_sections": [],
      "authorship_tag": "ABX9TyOG5k36v/qwfQwisfZOAy51",
      "include_colab_link": true
    },
    "kernelspec": {
      "name": "python3",
      "display_name": "Python 3"
    },
    "language_info": {
      "name": "python"
    },
    "accelerator": "GPU"
  },
  "cells": [
    {
      "cell_type": "markdown",
      "metadata": {
        "id": "view-in-github",
        "colab_type": "text"
      },
      "source": [
        "<a href=\"https://colab.research.google.com/github/humanpose1/MS-SVConv/blob/main/notebook/demo_MSSVConv.ipynb\" target=\"_parent\"><img src=\"https://colab.research.google.com/assets/colab-badge.svg\" alt=\"Open In Colab\"/></a>"
      ]
    },
    {
      "cell_type": "markdown",
      "metadata": {
        "id": "slKL_LEw6P3c"
      },
      "source": [
        "# Demo of MS SVConv for point cloud registration\n",
        "\n",
        "The goal of this notebook is too quickly show how you can use MS-SVConv on your projects.\n",
        "\n",
        "\n",
        "\n",
        "\n"
      ]
    },
    {
      "cell_type": "markdown",
      "metadata": {
        "id": "fv1Ca0XF6pHz"
      },
      "source": [
        "## Installation\n",
        "First we install necessary packages"
      ]
    },
    {
      "cell_type": "code",
      "metadata": {
        "colab": {
          "base_uri": "https://localhost:8080/",
          "height": 1000
        },
        "id": "vbPbVET4Bv15",
        "outputId": "86ab33f6-983c-4ba9-8e94-39dcfaaba19f"
      },
      "source": [
        "!pip install torch==1.9.0\n",
        "!pip uninstall -y torch-scatter\n",
        "!pip uninstall -y torch-sparse\n",
        "!pip uninstall -y torch-cluster\n",
        "!pip uninstall -y torch-geometric\n",
        "!pip install torch-scatter -f https://pytorch-geometric.com/whl/torch-1.9.0+cu102.html\n",
        "!pip install torch-sparse -f https://pytorch-geometric.com/whl/torch-1.9.0+cu102.html\n",
        "!pip install torch-cluster -f https://pytorch-geometric.com/whl/torch-1.9.0+cu102.html\n",
        "!pip install torch-spline-conv -f https://pytorch-geometric.com/whl/torch-1.9.0+cu102.html\n",
        "!pip install torch-geometric\n",
        "!pip install pyvista\n",
        "!pip install --upgrade jsonschema\n",
        "\n",
        "!pip install git+https://github.com/nicolas-chaulet/torch-points3d.git\n",
        "!apt-get update\n",
        "!apt-get install -qq xvfb libgl1-mesa-glx"
      ],
      "execution_count": null,
      "outputs": [
        {
          "output_type": "stream",
          "text": [
            "Requirement already satisfied: torch==1.9.0 in /usr/local/lib/python3.7/dist-packages (1.9.0+cu102)\n",
            "Requirement already satisfied: typing-extensions in /usr/local/lib/python3.7/dist-packages (from torch==1.9.0) (3.7.4.3)\n",
            "Uninstalling torch-scatter-2.0.7:\n",
            "  Successfully uninstalled torch-scatter-2.0.7\n",
            "Uninstalling torch-sparse-0.6.10:\n",
            "  Successfully uninstalled torch-sparse-0.6.10\n",
            "Uninstalling torch-cluster-1.5.9:\n",
            "  Successfully uninstalled torch-cluster-1.5.9\n",
            "Uninstalling torch-geometric-1.7.1:\n",
            "  Successfully uninstalled torch-geometric-1.7.1\n",
            "Looking in links: https://pytorch-geometric.com/whl/torch-1.9.0+cu102.html\n",
            "Collecting torch-scatter\n",
            "  Using cached https://pytorch-geometric.com/whl/torch-1.9.0%2Bcu102/torch_scatter-2.0.7-cp37-cp37m-linux_x86_64.whl\n",
            "\u001b[31mERROR: torch-points3d 0.2.0 requires torch-cluster<2.0.0,>=1.5.6, which is not installed.\u001b[0m\n",
            "\u001b[31mERROR: torch-points3d 0.2.0 requires torch-geometric<2.0.0,>=1.3.2, which is not installed.\u001b[0m\n",
            "\u001b[31mERROR: torch-points3d 0.2.0 requires torch-sparse<0.7.0,>=0.6.0, which is not installed.\u001b[0m\n",
            "Installing collected packages: torch-scatter\n",
            "Successfully installed torch-scatter-2.0.7\n"
          ],
          "name": "stdout"
        },
        {
          "output_type": "display_data",
          "data": {
            "application/vnd.colab-display-data+json": {
              "pip_warning": {
                "packages": [
                  "torch_scatter"
                ]
              }
            }
          },
          "metadata": {
            "tags": []
          }
        },
        {
          "output_type": "stream",
          "text": [
            "Looking in links: https://pytorch-geometric.com/whl/torch-1.9.0+cu102.html\n",
            "Collecting torch-sparse\n",
            "  Using cached https://pytorch-geometric.com/whl/torch-1.9.0%2Bcu102/torch_sparse-0.6.10-cp37-cp37m-linux_x86_64.whl\n",
            "Requirement already satisfied: scipy in /usr/local/lib/python3.7/dist-packages (from torch-sparse) (1.4.1)\n",
            "Requirement already satisfied: numpy>=1.13.3 in /usr/local/lib/python3.7/dist-packages (from scipy->torch-sparse) (1.19.5)\n",
            "\u001b[31mERROR: torch-points3d 0.2.0 requires torch-cluster<2.0.0,>=1.5.6, which is not installed.\u001b[0m\n",
            "\u001b[31mERROR: torch-points3d 0.2.0 requires torch-geometric<2.0.0,>=1.3.2, which is not installed.\u001b[0m\n",
            "Installing collected packages: torch-sparse\n",
            "Successfully installed torch-sparse-0.6.10\n"
          ],
          "name": "stdout"
        },
        {
          "output_type": "display_data",
          "data": {
            "application/vnd.colab-display-data+json": {
              "pip_warning": {
                "packages": [
                  "torch_sparse"
                ]
              }
            }
          },
          "metadata": {
            "tags": []
          }
        },
        {
          "output_type": "stream",
          "text": [
            "Looking in links: https://pytorch-geometric.com/whl/torch-1.9.0+cu102.html\n",
            "Collecting torch-cluster\n",
            "  Using cached https://pytorch-geometric.com/whl/torch-1.9.0%2Bcu102/torch_cluster-1.5.9-cp37-cp37m-linux_x86_64.whl\n",
            "\u001b[31mERROR: torch-points3d 0.2.0 requires torch-geometric<2.0.0,>=1.3.2, which is not installed.\u001b[0m\n",
            "Installing collected packages: torch-cluster\n",
            "Successfully installed torch-cluster-1.5.9\n"
          ],
          "name": "stdout"
        },
        {
          "output_type": "display_data",
          "data": {
            "application/vnd.colab-display-data+json": {
              "pip_warning": {
                "packages": [
                  "torch_cluster"
                ]
              }
            }
          },
          "metadata": {
            "tags": []
          }
        },
        {
          "output_type": "stream",
          "text": [
            "Looking in links: https://pytorch-geometric.com/whl/torch-1.9.0+cu102.html\n",
            "Requirement already satisfied: torch-spline-conv in /usr/local/lib/python3.7/dist-packages (1.2.1)\n",
            "Processing /root/.cache/pip/wheels/f3/97/91/7572ed6157a4c1ccef22a91a7ae9365413b57bb1a65d6056fa/torch_geometric-1.7.1-cp37-none-any.whl\n",
            "Requirement already satisfied: tqdm in /usr/local/lib/python3.7/dist-packages (from torch-geometric) (4.41.1)\n",
            "Requirement already satisfied: scikit-learn in /usr/local/lib/python3.7/dist-packages (from torch-geometric) (0.22.2.post1)\n",
            "Requirement already satisfied: networkx in /usr/local/lib/python3.7/dist-packages (from torch-geometric) (2.5.1)\n",
            "Requirement already satisfied: requests in /usr/local/lib/python3.7/dist-packages (from torch-geometric) (2.23.0)\n",
            "Requirement already satisfied: numpy in /usr/local/lib/python3.7/dist-packages (from torch-geometric) (1.19.5)\n",
            "Requirement already satisfied: python-louvain in /usr/local/lib/python3.7/dist-packages (from torch-geometric) (0.15)\n",
            "Requirement already satisfied: googledrivedownloader in /usr/local/lib/python3.7/dist-packages (from torch-geometric) (0.4)\n",
            "Requirement already satisfied: scipy in /usr/local/lib/python3.7/dist-packages (from torch-geometric) (1.4.1)\n",
            "Requirement already satisfied: pandas in /usr/local/lib/python3.7/dist-packages (from torch-geometric) (1.1.5)\n",
            "Requirement already satisfied: jinja2 in /usr/local/lib/python3.7/dist-packages (from torch-geometric) (2.11.3)\n",
            "Requirement already satisfied: rdflib in /usr/local/lib/python3.7/dist-packages (from torch-geometric) (5.0.0)\n",
            "Requirement already satisfied: joblib>=0.11 in /usr/local/lib/python3.7/dist-packages (from scikit-learn->torch-geometric) (1.0.1)\n",
            "Requirement already satisfied: decorator<5,>=4.3 in /usr/local/lib/python3.7/dist-packages (from networkx->torch-geometric) (4.4.2)\n",
            "Requirement already satisfied: idna<3,>=2.5 in /usr/local/lib/python3.7/dist-packages (from requests->torch-geometric) (2.10)\n",
            "Requirement already satisfied: chardet<4,>=3.0.2 in /usr/local/lib/python3.7/dist-packages (from requests->torch-geometric) (3.0.4)\n",
            "Requirement already satisfied: urllib3!=1.25.0,!=1.25.1,<1.26,>=1.21.1 in /usr/local/lib/python3.7/dist-packages (from requests->torch-geometric) (1.24.3)\n",
            "Requirement already satisfied: certifi>=2017.4.17 in /usr/local/lib/python3.7/dist-packages (from requests->torch-geometric) (2021.5.30)\n",
            "Requirement already satisfied: pytz>=2017.2 in /usr/local/lib/python3.7/dist-packages (from pandas->torch-geometric) (2018.9)\n",
            "Requirement already satisfied: python-dateutil>=2.7.3 in /usr/local/lib/python3.7/dist-packages (from pandas->torch-geometric) (2.8.1)\n",
            "Requirement already satisfied: MarkupSafe>=0.23 in /usr/local/lib/python3.7/dist-packages (from jinja2->torch-geometric) (2.0.1)\n",
            "Requirement already satisfied: pyparsing in /usr/local/lib/python3.7/dist-packages (from rdflib->torch-geometric) (2.4.7)\n",
            "Requirement already satisfied: six in /usr/local/lib/python3.7/dist-packages (from rdflib->torch-geometric) (1.15.0)\n",
            "Requirement already satisfied: isodate in /usr/local/lib/python3.7/dist-packages (from rdflib->torch-geometric) (0.6.0)\n",
            "Installing collected packages: torch-geometric\n",
            "Successfully installed torch-geometric-1.7.1\n"
          ],
          "name": "stdout"
        },
        {
          "output_type": "display_data",
          "data": {
            "application/vnd.colab-display-data+json": {
              "pip_warning": {
                "packages": [
                  "torch_geometric"
                ]
              }
            }
          },
          "metadata": {
            "tags": []
          }
        },
        {
          "output_type": "stream",
          "text": [
            "Requirement already satisfied: pyvista in /usr/local/lib/python3.7/dist-packages (0.31.2)\n",
            "Requirement already satisfied: imageio in /usr/local/lib/python3.7/dist-packages (from pyvista) (2.4.1)\n",
            "Requirement already satisfied: vtk in /usr/local/lib/python3.7/dist-packages (from pyvista) (9.0.1)\n",
            "Requirement already satisfied: transforms3d==0.3.1 in /usr/local/lib/python3.7/dist-packages (from pyvista) (0.3.1)\n",
            "Requirement already satisfied: scooby>=0.5.1 in /usr/local/lib/python3.7/dist-packages (from pyvista) (0.5.7)\n",
            "Requirement already satisfied: appdirs in /usr/local/lib/python3.7/dist-packages (from pyvista) (1.4.4)\n",
            "Requirement already satisfied: numpy in /usr/local/lib/python3.7/dist-packages (from pyvista) (1.19.5)\n",
            "Requirement already satisfied: meshio<5.0,>=4.0.3 in /usr/local/lib/python3.7/dist-packages (from pyvista) (4.4.6)\n",
            "Requirement already satisfied: pillow in /usr/local/lib/python3.7/dist-packages (from pyvista) (7.1.2)\n",
            "Requirement already satisfied: importlib-metadata; python_version < \"3.8\" in /usr/local/lib/python3.7/dist-packages (from meshio<5.0,>=4.0.3->pyvista) (4.5.0)\n",
            "Requirement already satisfied: zipp>=0.5 in /usr/local/lib/python3.7/dist-packages (from importlib-metadata; python_version < \"3.8\"->meshio<5.0,>=4.0.3->pyvista) (3.4.1)\n",
            "Requirement already satisfied: typing-extensions>=3.6.4; python_version < \"3.8\" in /usr/local/lib/python3.7/dist-packages (from importlib-metadata; python_version < \"3.8\"->meshio<5.0,>=4.0.3->pyvista) (3.7.4.3)\n",
            "Requirement already up-to-date: jsonschema in /usr/local/lib/python3.7/dist-packages (3.2.0)\n",
            "Requirement already satisfied, skipping upgrade: attrs>=17.4.0 in /usr/local/lib/python3.7/dist-packages (from jsonschema) (21.2.0)\n",
            "Requirement already satisfied, skipping upgrade: six>=1.11.0 in /usr/local/lib/python3.7/dist-packages (from jsonschema) (1.15.0)\n",
            "Requirement already satisfied, skipping upgrade: importlib-metadata; python_version < \"3.8\" in /usr/local/lib/python3.7/dist-packages (from jsonschema) (4.5.0)\n",
            "Requirement already satisfied, skipping upgrade: setuptools in /usr/local/lib/python3.7/dist-packages (from jsonschema) (57.0.0)\n",
            "Requirement already satisfied, skipping upgrade: pyrsistent>=0.14.0 in /usr/local/lib/python3.7/dist-packages (from jsonschema) (0.17.3)\n",
            "Requirement already satisfied, skipping upgrade: zipp>=0.5 in /usr/local/lib/python3.7/dist-packages (from importlib-metadata; python_version < \"3.8\"->jsonschema) (3.4.1)\n",
            "Requirement already satisfied, skipping upgrade: typing-extensions>=3.6.4; python_version < \"3.8\" in /usr/local/lib/python3.7/dist-packages (from importlib-metadata; python_version < \"3.8\"->jsonschema) (3.7.4.3)\n",
            "Collecting git+https://github.com/nicolas-chaulet/torch-points3d.git\n",
            "  Cloning https://github.com/nicolas-chaulet/torch-points3d.git to /tmp/pip-req-build-uk20xhph\n",
            "  Running command git clone -q https://github.com/nicolas-chaulet/torch-points3d.git /tmp/pip-req-build-uk20xhph\n",
            "  Installing build dependencies ... \u001b[?25l\u001b[?25hdone\n",
            "  Getting requirements to build wheel ... \u001b[?25l\u001b[?25hdone\n",
            "    Preparing wheel metadata ... \u001b[?25l\u001b[?25hdone\n",
            "Requirement already satisfied (use --upgrade to upgrade): torch-points3d==0.2.0 from git+https://github.com/nicolas-chaulet/torch-points3d.git in /usr/local/lib/python3.7/dist-packages\n",
            "Requirement already satisfied: torch-sparse<0.7.0,>=0.6.0 in /usr/local/lib/python3.7/dist-packages (from torch-points3d==0.2.0) (0.6.10)\n",
            "Requirement already satisfied: numba<0.51.0,>=0.50.0 in /usr/local/lib/python3.7/dist-packages (from torch-points3d==0.2.0) (0.50.1)\n",
            "Requirement already satisfied: wandb<0.9.0,>=0.8.18 in /usr/local/lib/python3.7/dist-packages (from torch-points3d==0.2.0) (0.8.36)\n",
            "Requirement already satisfied: torch-scatter<3.0.0,>=2.0.0 in /usr/local/lib/python3.7/dist-packages (from torch-points3d==0.2.0) (2.0.7)\n",
            "Requirement already satisfied: numpy<1.20.0 in /usr/local/lib/python3.7/dist-packages (from torch-points3d==0.2.0) (1.19.5)\n",
            "Requirement already satisfied: types-six<0.2.0,>=0.1.6 in /usr/local/lib/python3.7/dist-packages (from torch-points3d==0.2.0) (0.1.7)\n",
            "Requirement already satisfied: tensorboard<3.0,>=2.1 in /usr/local/lib/python3.7/dist-packages (from torch-points3d==0.2.0) (2.5.0)\n",
            "Requirement already satisfied: types-requests<0.2.0,>=0.1.11 in /usr/local/lib/python3.7/dist-packages (from torch-points3d==0.2.0) (0.1.13)\n",
            "Requirement already satisfied: plyfile<0.8.0,>=0.7.2 in /usr/local/lib/python3.7/dist-packages (from torch-points3d==0.2.0) (0.7.4)\n",
            "Requirement already satisfied: matplotlib<4.0,>=3.1 in /usr/local/lib/python3.7/dist-packages (from torch-points3d==0.2.0) (3.2.2)\n",
            "Requirement already satisfied: hydra-core<2.0.0,>=1.0.0 in /usr/local/lib/python3.7/dist-packages (from torch-points3d==0.2.0) (1.1.0)\n",
            "Requirement already satisfied: tqdm<5.0,>=4.40 in /usr/local/lib/python3.7/dist-packages (from torch-points3d==0.2.0) (4.41.1)\n",
            "Requirement already satisfied: scikit-image<0.17.0,>=0.16.2 in /usr/local/lib/python3.7/dist-packages (from torch-points3d==0.2.0) (0.16.2)\n",
            "Requirement already satisfied: torchnet<0.0.5,>=0.0.4 in /usr/local/lib/python3.7/dist-packages (from torch-points3d==0.2.0) (0.0.4)\n",
            "Requirement already satisfied: torch-cluster<2.0.0,>=1.5.6 in /usr/local/lib/python3.7/dist-packages (from torch-points3d==0.2.0) (1.5.9)\n",
            "Requirement already satisfied: pytorch_metric_learning<0.10.0,>=0.9.87.dev0 in /usr/local/lib/python3.7/dist-packages (from torch-points3d==0.2.0) (0.9.99)\n",
            "Requirement already satisfied: torch<2.0.0,>=1.7.0 in /usr/local/lib/python3.7/dist-packages (from torch-points3d==0.2.0) (1.9.0+cu102)\n",
            "Requirement already satisfied: torch-points-kernels<0.8.0,>=0.7.0 in /usr/local/lib/python3.7/dist-packages (from torch-points3d==0.2.0) (0.7.0)\n",
            "Requirement already satisfied: open3d==0.12.0 in /usr/local/lib/python3.7/dist-packages (from torch-points3d==0.2.0) (0.12.0)\n",
            "Requirement already satisfied: torch-geometric<2.0.0,>=1.3.2 in /usr/local/lib/python3.7/dist-packages (from torch-points3d==0.2.0) (1.7.1)\n",
            "Requirement already satisfied: gdown<4.0.0,>=3.12.0 in /usr/local/lib/python3.7/dist-packages (from torch-points3d==0.2.0) (3.13.0)\n",
            "Requirement already satisfied: scipy in /usr/local/lib/python3.7/dist-packages (from torch-sparse<0.7.0,>=0.6.0->torch-points3d==0.2.0) (1.4.1)\n",
            "Requirement already satisfied: setuptools in /usr/local/lib/python3.7/dist-packages (from numba<0.51.0,>=0.50.0->torch-points3d==0.2.0) (57.0.0)\n",
            "Requirement already satisfied: llvmlite<0.34,>=0.33.0.dev0 in /usr/local/lib/python3.7/dist-packages (from numba<0.51.0,>=0.50.0->torch-points3d==0.2.0) (0.33.0)\n",
            "Requirement already satisfied: python-dateutil>=2.6.1 in /usr/local/lib/python3.7/dist-packages (from wandb<0.9.0,>=0.8.18->torch-points3d==0.2.0) (2.8.1)\n",
            "Requirement already satisfied: nvidia-ml-py3>=7.352.0 in /usr/local/lib/python3.7/dist-packages (from wandb<0.9.0,>=0.8.18->torch-points3d==0.2.0) (7.352.0)\n",
            "Requirement already satisfied: GitPython>=1.0.0 in /usr/local/lib/python3.7/dist-packages (from wandb<0.9.0,>=0.8.18->torch-points3d==0.2.0) (3.1.18)\n",
            "Requirement already satisfied: six>=1.10.0 in /usr/local/lib/python3.7/dist-packages (from wandb<0.9.0,>=0.8.18->torch-points3d==0.2.0) (1.15.0)\n",
            "Requirement already satisfied: subprocess32>=3.5.3 in /usr/local/lib/python3.7/dist-packages (from wandb<0.9.0,>=0.8.18->torch-points3d==0.2.0) (3.5.4)\n",
            "Requirement already satisfied: requests>=2.0.0 in /usr/local/lib/python3.7/dist-packages (from wandb<0.9.0,>=0.8.18->torch-points3d==0.2.0) (2.23.0)\n",
            "Requirement already satisfied: docker-pycreds>=0.4.0 in /usr/local/lib/python3.7/dist-packages (from wandb<0.9.0,>=0.8.18->torch-points3d==0.2.0) (0.4.0)\n",
            "Requirement already satisfied: psutil>=5.0.0 in /usr/local/lib/python3.7/dist-packages (from wandb<0.9.0,>=0.8.18->torch-points3d==0.2.0) (5.4.8)\n",
            "Requirement already satisfied: sentry-sdk>=0.4.0 in /usr/local/lib/python3.7/dist-packages (from wandb<0.9.0,>=0.8.18->torch-points3d==0.2.0) (1.1.0)\n",
            "Requirement already satisfied: shortuuid>=0.5.0 in /usr/local/lib/python3.7/dist-packages (from wandb<0.9.0,>=0.8.18->torch-points3d==0.2.0) (1.0.1)\n",
            "Requirement already satisfied: watchdog>=0.8.3 in /usr/local/lib/python3.7/dist-packages (from wandb<0.9.0,>=0.8.18->torch-points3d==0.2.0) (2.1.2)\n",
            "Requirement already satisfied: configparser>=3.8.1 in /usr/local/lib/python3.7/dist-packages (from wandb<0.9.0,>=0.8.18->torch-points3d==0.2.0) (5.0.2)\n",
            "Requirement already satisfied: PyYAML>=3.10 in /usr/local/lib/python3.7/dist-packages (from wandb<0.9.0,>=0.8.18->torch-points3d==0.2.0) (3.13)\n",
            "Requirement already satisfied: Click>=7.0 in /usr/local/lib/python3.7/dist-packages (from wandb<0.9.0,>=0.8.18->torch-points3d==0.2.0) (7.1.2)\n",
            "Requirement already satisfied: gql==0.2.0 in /usr/local/lib/python3.7/dist-packages (from wandb<0.9.0,>=0.8.18->torch-points3d==0.2.0) (0.2.0)\n",
            "Requirement already satisfied: tensorboard-data-server<0.7.0,>=0.6.0 in /usr/local/lib/python3.7/dist-packages (from tensorboard<3.0,>=2.1->torch-points3d==0.2.0) (0.6.1)\n",
            "Requirement already satisfied: absl-py>=0.4 in /usr/local/lib/python3.7/dist-packages (from tensorboard<3.0,>=2.1->torch-points3d==0.2.0) (0.12.0)\n",
            "Requirement already satisfied: grpcio>=1.24.3 in /usr/local/lib/python3.7/dist-packages (from tensorboard<3.0,>=2.1->torch-points3d==0.2.0) (1.34.1)\n",
            "Requirement already satisfied: wheel>=0.26; python_version >= \"3\" in /usr/local/lib/python3.7/dist-packages (from tensorboard<3.0,>=2.1->torch-points3d==0.2.0) (0.36.2)\n",
            "Requirement already satisfied: google-auth<2,>=1.6.3 in /usr/local/lib/python3.7/dist-packages (from tensorboard<3.0,>=2.1->torch-points3d==0.2.0) (1.31.0)\n",
            "Requirement already satisfied: protobuf>=3.6.0 in /usr/local/lib/python3.7/dist-packages (from tensorboard<3.0,>=2.1->torch-points3d==0.2.0) (3.12.4)\n",
            "Requirement already satisfied: google-auth-oauthlib<0.5,>=0.4.1 in /usr/local/lib/python3.7/dist-packages (from tensorboard<3.0,>=2.1->torch-points3d==0.2.0) (0.4.4)\n",
            "Requirement already satisfied: markdown>=2.6.8 in /usr/local/lib/python3.7/dist-packages (from tensorboard<3.0,>=2.1->torch-points3d==0.2.0) (3.3.4)\n",
            "Requirement already satisfied: tensorboard-plugin-wit>=1.6.0 in /usr/local/lib/python3.7/dist-packages (from tensorboard<3.0,>=2.1->torch-points3d==0.2.0) (1.8.0)\n",
            "Requirement already satisfied: werkzeug>=0.11.15 in /usr/local/lib/python3.7/dist-packages (from tensorboard<3.0,>=2.1->torch-points3d==0.2.0) (1.0.1)\n",
            "Requirement already satisfied: pyparsing!=2.0.4,!=2.1.2,!=2.1.6,>=2.0.1 in /usr/local/lib/python3.7/dist-packages (from matplotlib<4.0,>=3.1->torch-points3d==0.2.0) (2.4.7)\n",
            "Requirement already satisfied: kiwisolver>=1.0.1 in /usr/local/lib/python3.7/dist-packages (from matplotlib<4.0,>=3.1->torch-points3d==0.2.0) (1.3.1)\n",
            "Requirement already satisfied: cycler>=0.10 in /usr/local/lib/python3.7/dist-packages (from matplotlib<4.0,>=3.1->torch-points3d==0.2.0) (0.10.0)\n",
            "Requirement already satisfied: omegaconf==2.1.* in /usr/local/lib/python3.7/dist-packages (from hydra-core<2.0.0,>=1.0.0->torch-points3d==0.2.0) (2.1.0)\n",
            "Requirement already satisfied: antlr4-python3-runtime==4.8 in /usr/local/lib/python3.7/dist-packages (from hydra-core<2.0.0,>=1.0.0->torch-points3d==0.2.0) (4.8)\n",
            "Requirement already satisfied: importlib-resources; python_version < \"3.9\" in /usr/local/lib/python3.7/dist-packages (from hydra-core<2.0.0,>=1.0.0->torch-points3d==0.2.0) (5.1.4)\n",
            "Requirement already satisfied: imageio>=2.3.0 in /usr/local/lib/python3.7/dist-packages (from scikit-image<0.17.0,>=0.16.2->torch-points3d==0.2.0) (2.4.1)\n",
            "Requirement already satisfied: networkx>=2.0 in /usr/local/lib/python3.7/dist-packages (from scikit-image<0.17.0,>=0.16.2->torch-points3d==0.2.0) (2.5.1)\n",
            "Requirement already satisfied: PyWavelets>=0.4.0 in /usr/local/lib/python3.7/dist-packages (from scikit-image<0.17.0,>=0.16.2->torch-points3d==0.2.0) (1.1.1)\n",
            "Requirement already satisfied: pillow>=4.3.0 in /usr/local/lib/python3.7/dist-packages (from scikit-image<0.17.0,>=0.16.2->torch-points3d==0.2.0) (7.1.2)\n",
            "Requirement already satisfied: visdom in /usr/local/lib/python3.7/dist-packages (from torchnet<0.0.5,>=0.0.4->torch-points3d==0.2.0) (0.1.8.9)\n",
            "Requirement already satisfied: torchvision in /usr/local/lib/python3.7/dist-packages (from pytorch_metric_learning<0.10.0,>=0.9.87.dev0->torch-points3d==0.2.0) (0.10.0+cu102)\n",
            "Requirement already satisfied: scikit-learn in /usr/local/lib/python3.7/dist-packages (from pytorch_metric_learning<0.10.0,>=0.9.87.dev0->torch-points3d==0.2.0) (0.22.2.post1)\n",
            "Requirement already satisfied: typing-extensions in /usr/local/lib/python3.7/dist-packages (from torch<2.0.0,>=1.7.0->torch-points3d==0.2.0) (3.7.4.3)\n",
            "Requirement already satisfied: ipywidgets in /usr/local/lib/python3.7/dist-packages (from open3d==0.12.0->torch-points3d==0.2.0) (7.6.3)\n",
            "Requirement already satisfied: widgetsnbextension in /usr/local/lib/python3.7/dist-packages (from open3d==0.12.0->torch-points3d==0.2.0) (3.5.1)\n",
            "Requirement already satisfied: addict in /usr/local/lib/python3.7/dist-packages (from open3d==0.12.0->torch-points3d==0.2.0) (2.4.0)\n",
            "Requirement already satisfied: pandas in /usr/local/lib/python3.7/dist-packages (from open3d==0.12.0->torch-points3d==0.2.0) (1.1.5)\n",
            "Requirement already satisfied: notebook in /usr/local/lib/python3.7/dist-packages (from open3d==0.12.0->torch-points3d==0.2.0) (5.3.1)\n",
            "Requirement already satisfied: sklearn in /usr/local/lib/python3.7/dist-packages (from open3d==0.12.0->torch-points3d==0.2.0) (0.0)\n",
            "Requirement already satisfied: jinja2 in /usr/local/lib/python3.7/dist-packages (from torch-geometric<2.0.0,>=1.3.2->torch-points3d==0.2.0) (2.11.3)\n",
            "Requirement already satisfied: googledrivedownloader in /usr/local/lib/python3.7/dist-packages (from torch-geometric<2.0.0,>=1.3.2->torch-points3d==0.2.0) (0.4)\n",
            "Requirement already satisfied: python-louvain in /usr/local/lib/python3.7/dist-packages (from torch-geometric<2.0.0,>=1.3.2->torch-points3d==0.2.0) (0.15)\n",
            "Requirement already satisfied: rdflib in /usr/local/lib/python3.7/dist-packages (from torch-geometric<2.0.0,>=1.3.2->torch-points3d==0.2.0) (5.0.0)\n",
            "Requirement already satisfied: filelock in /usr/local/lib/python3.7/dist-packages (from gdown<4.0.0,>=3.12.0->torch-points3d==0.2.0) (3.0.12)\n",
            "Requirement already satisfied: gitdb<5,>=4.0.1 in /usr/local/lib/python3.7/dist-packages (from GitPython>=1.0.0->wandb<0.9.0,>=0.8.18->torch-points3d==0.2.0) (4.0.7)\n",
            "Requirement already satisfied: idna<3,>=2.5 in /usr/local/lib/python3.7/dist-packages (from requests>=2.0.0->wandb<0.9.0,>=0.8.18->torch-points3d==0.2.0) (2.10)\n",
            "Requirement already satisfied: chardet<4,>=3.0.2 in /usr/local/lib/python3.7/dist-packages (from requests>=2.0.0->wandb<0.9.0,>=0.8.18->torch-points3d==0.2.0) (3.0.4)\n",
            "Requirement already satisfied: urllib3!=1.25.0,!=1.25.1,<1.26,>=1.21.1 in /usr/local/lib/python3.7/dist-packages (from requests>=2.0.0->wandb<0.9.0,>=0.8.18->torch-points3d==0.2.0) (1.24.3)\n",
            "Requirement already satisfied: certifi>=2017.4.17 in /usr/local/lib/python3.7/dist-packages (from requests>=2.0.0->wandb<0.9.0,>=0.8.18->torch-points3d==0.2.0) (2021.5.30)\n",
            "Requirement already satisfied: promise<3,>=2.0 in /usr/local/lib/python3.7/dist-packages (from gql==0.2.0->wandb<0.9.0,>=0.8.18->torch-points3d==0.2.0) (2.3)\n",
            "Requirement already satisfied: graphql-core<2,>=0.5.0 in /usr/local/lib/python3.7/dist-packages (from gql==0.2.0->wandb<0.9.0,>=0.8.18->torch-points3d==0.2.0) (1.1)\n",
            "Requirement already satisfied: cachetools<5.0,>=2.0.0 in /usr/local/lib/python3.7/dist-packages (from google-auth<2,>=1.6.3->tensorboard<3.0,>=2.1->torch-points3d==0.2.0) (4.2.2)\n",
            "Requirement already satisfied: rsa<5,>=3.1.4; python_version >= \"3.6\" in /usr/local/lib/python3.7/dist-packages (from google-auth<2,>=1.6.3->tensorboard<3.0,>=2.1->torch-points3d==0.2.0) (4.7.2)\n",
            "Requirement already satisfied: pyasn1-modules>=0.2.1 in /usr/local/lib/python3.7/dist-packages (from google-auth<2,>=1.6.3->tensorboard<3.0,>=2.1->torch-points3d==0.2.0) (0.2.8)\n",
            "Requirement already satisfied: requests-oauthlib>=0.7.0 in /usr/local/lib/python3.7/dist-packages (from google-auth-oauthlib<0.5,>=0.4.1->tensorboard<3.0,>=2.1->torch-points3d==0.2.0) (1.3.0)\n",
            "Requirement already satisfied: importlib-metadata; python_version < \"3.8\" in /usr/local/lib/python3.7/dist-packages (from markdown>=2.6.8->tensorboard<3.0,>=2.1->torch-points3d==0.2.0) (4.5.0)\n",
            "Requirement already satisfied: zipp>=3.1.0; python_version < \"3.10\" in /usr/local/lib/python3.7/dist-packages (from importlib-resources; python_version < \"3.9\"->hydra-core<2.0.0,>=1.0.0->torch-points3d==0.2.0) (3.4.1)\n",
            "Requirement already satisfied: decorator<5,>=4.3 in /usr/local/lib/python3.7/dist-packages (from networkx>=2.0->scikit-image<0.17.0,>=0.16.2->torch-points3d==0.2.0) (4.4.2)\n",
            "Requirement already satisfied: jsonpatch in /usr/local/lib/python3.7/dist-packages (from visdom->torchnet<0.0.5,>=0.0.4->torch-points3d==0.2.0) (1.32)\n",
            "Requirement already satisfied: torchfile in /usr/local/lib/python3.7/dist-packages (from visdom->torchnet<0.0.5,>=0.0.4->torch-points3d==0.2.0) (0.1.0)\n",
            "Requirement already satisfied: pyzmq in /usr/local/lib/python3.7/dist-packages (from visdom->torchnet<0.0.5,>=0.0.4->torch-points3d==0.2.0) (22.1.0)\n",
            "Requirement already satisfied: tornado in /usr/local/lib/python3.7/dist-packages (from visdom->torchnet<0.0.5,>=0.0.4->torch-points3d==0.2.0) (5.1.1)\n",
            "Requirement already satisfied: websocket-client in /usr/local/lib/python3.7/dist-packages (from visdom->torchnet<0.0.5,>=0.0.4->torch-points3d==0.2.0) (1.1.0)\n",
            "Requirement already satisfied: joblib>=0.11 in /usr/local/lib/python3.7/dist-packages (from scikit-learn->pytorch_metric_learning<0.10.0,>=0.9.87.dev0->torch-points3d==0.2.0) (1.0.1)\n",
            "Requirement already satisfied: ipython>=4.0.0; python_version >= \"3.3\" in /usr/local/lib/python3.7/dist-packages (from ipywidgets->open3d==0.12.0->torch-points3d==0.2.0) (5.5.0)\n",
            "Requirement already satisfied: jupyterlab-widgets>=1.0.0; python_version >= \"3.6\" in /usr/local/lib/python3.7/dist-packages (from ipywidgets->open3d==0.12.0->torch-points3d==0.2.0) (1.0.0)\n",
            "Requirement already satisfied: traitlets>=4.3.1 in /usr/local/lib/python3.7/dist-packages (from ipywidgets->open3d==0.12.0->torch-points3d==0.2.0) (5.0.5)\n",
            "Requirement already satisfied: ipykernel>=4.5.1 in /usr/local/lib/python3.7/dist-packages (from ipywidgets->open3d==0.12.0->torch-points3d==0.2.0) (4.10.1)\n",
            "Requirement already satisfied: nbformat>=4.2.0 in /usr/local/lib/python3.7/dist-packages (from ipywidgets->open3d==0.12.0->torch-points3d==0.2.0) (5.1.3)\n",
            "Requirement already satisfied: pytz>=2017.2 in /usr/local/lib/python3.7/dist-packages (from pandas->open3d==0.12.0->torch-points3d==0.2.0) (2018.9)\n",
            "Requirement already satisfied: ipython-genutils in /usr/local/lib/python3.7/dist-packages (from notebook->open3d==0.12.0->torch-points3d==0.2.0) (0.2.0)\n",
            "Requirement already satisfied: jupyter-core>=4.4.0 in /usr/local/lib/python3.7/dist-packages (from notebook->open3d==0.12.0->torch-points3d==0.2.0) (4.7.1)\n",
            "Requirement already satisfied: nbconvert in /usr/local/lib/python3.7/dist-packages (from notebook->open3d==0.12.0->torch-points3d==0.2.0) (5.6.1)\n",
            "Requirement already satisfied: jupyter-client>=5.2.0 in /usr/local/lib/python3.7/dist-packages (from notebook->open3d==0.12.0->torch-points3d==0.2.0) (5.3.5)\n",
            "Requirement already satisfied: Send2Trash in /usr/local/lib/python3.7/dist-packages (from notebook->open3d==0.12.0->torch-points3d==0.2.0) (1.5.0)\n",
            "Requirement already satisfied: terminado>=0.8.1 in /usr/local/lib/python3.7/dist-packages (from notebook->open3d==0.12.0->torch-points3d==0.2.0) (0.10.1)\n",
            "Requirement already satisfied: MarkupSafe>=0.23 in /usr/local/lib/python3.7/dist-packages (from jinja2->torch-geometric<2.0.0,>=1.3.2->torch-points3d==0.2.0) (2.0.1)\n",
            "Requirement already satisfied: isodate in /usr/local/lib/python3.7/dist-packages (from rdflib->torch-geometric<2.0.0,>=1.3.2->torch-points3d==0.2.0) (0.6.0)\n",
            "Requirement already satisfied: smmap<5,>=3.0.1 in /usr/local/lib/python3.7/dist-packages (from gitdb<5,>=4.0.1->GitPython>=1.0.0->wandb<0.9.0,>=0.8.18->torch-points3d==0.2.0) (4.0.0)\n",
            "Requirement already satisfied: pyasn1>=0.1.3 in /usr/local/lib/python3.7/dist-packages (from rsa<5,>=3.1.4; python_version >= \"3.6\"->google-auth<2,>=1.6.3->tensorboard<3.0,>=2.1->torch-points3d==0.2.0) (0.4.8)\n",
            "Requirement already satisfied: oauthlib>=3.0.0 in /usr/local/lib/python3.7/dist-packages (from requests-oauthlib>=0.7.0->google-auth-oauthlib<0.5,>=0.4.1->tensorboard<3.0,>=2.1->torch-points3d==0.2.0) (3.1.1)\n",
            "Requirement already satisfied: jsonpointer>=1.9 in /usr/local/lib/python3.7/dist-packages (from jsonpatch->visdom->torchnet<0.0.5,>=0.0.4->torch-points3d==0.2.0) (2.1)\n",
            "Requirement already satisfied: pickleshare in /usr/local/lib/python3.7/dist-packages (from ipython>=4.0.0; python_version >= \"3.3\"->ipywidgets->open3d==0.12.0->torch-points3d==0.2.0) (0.7.5)\n",
            "Requirement already satisfied: prompt-toolkit<2.0.0,>=1.0.4 in /usr/local/lib/python3.7/dist-packages (from ipython>=4.0.0; python_version >= \"3.3\"->ipywidgets->open3d==0.12.0->torch-points3d==0.2.0) (1.0.18)\n",
            "Requirement already satisfied: simplegeneric>0.8 in /usr/local/lib/python3.7/dist-packages (from ipython>=4.0.0; python_version >= \"3.3\"->ipywidgets->open3d==0.12.0->torch-points3d==0.2.0) (0.8.1)\n",
            "Requirement already satisfied: pexpect; sys_platform != \"win32\" in /usr/local/lib/python3.7/dist-packages (from ipython>=4.0.0; python_version >= \"3.3\"->ipywidgets->open3d==0.12.0->torch-points3d==0.2.0) (4.8.0)\n",
            "Requirement already satisfied: pygments in /usr/local/lib/python3.7/dist-packages (from ipython>=4.0.0; python_version >= \"3.3\"->ipywidgets->open3d==0.12.0->torch-points3d==0.2.0) (2.6.1)\n",
            "Requirement already satisfied: jsonschema!=2.5.0,>=2.4 in /usr/local/lib/python3.7/dist-packages (from nbformat>=4.2.0->ipywidgets->open3d==0.12.0->torch-points3d==0.2.0) (3.2.0)\n",
            "Requirement already satisfied: testpath in /usr/local/lib/python3.7/dist-packages (from nbconvert->notebook->open3d==0.12.0->torch-points3d==0.2.0) (0.5.0)\n",
            "Requirement already satisfied: defusedxml in /usr/local/lib/python3.7/dist-packages (from nbconvert->notebook->open3d==0.12.0->torch-points3d==0.2.0) (0.7.1)\n",
            "Requirement already satisfied: entrypoints>=0.2.2 in /usr/local/lib/python3.7/dist-packages (from nbconvert->notebook->open3d==0.12.0->torch-points3d==0.2.0) (0.3)\n",
            "Requirement already satisfied: bleach in /usr/local/lib/python3.7/dist-packages (from nbconvert->notebook->open3d==0.12.0->torch-points3d==0.2.0) (3.3.0)\n",
            "Requirement already satisfied: mistune<2,>=0.8.1 in /usr/local/lib/python3.7/dist-packages (from nbconvert->notebook->open3d==0.12.0->torch-points3d==0.2.0) (0.8.4)\n",
            "Requirement already satisfied: pandocfilters>=1.4.1 in /usr/local/lib/python3.7/dist-packages (from nbconvert->notebook->open3d==0.12.0->torch-points3d==0.2.0) (1.4.3)\n",
            "Requirement already satisfied: ptyprocess; os_name != \"nt\" in /usr/local/lib/python3.7/dist-packages (from terminado>=0.8.1->notebook->open3d==0.12.0->torch-points3d==0.2.0) (0.7.0)\n",
            "Requirement already satisfied: wcwidth in /usr/local/lib/python3.7/dist-packages (from prompt-toolkit<2.0.0,>=1.0.4->ipython>=4.0.0; python_version >= \"3.3\"->ipywidgets->open3d==0.12.0->torch-points3d==0.2.0) (0.2.5)\n",
            "Requirement already satisfied: pyrsistent>=0.14.0 in /usr/local/lib/python3.7/dist-packages (from jsonschema!=2.5.0,>=2.4->nbformat>=4.2.0->ipywidgets->open3d==0.12.0->torch-points3d==0.2.0) (0.17.3)\n",
            "Requirement already satisfied: attrs>=17.4.0 in /usr/local/lib/python3.7/dist-packages (from jsonschema!=2.5.0,>=2.4->nbformat>=4.2.0->ipywidgets->open3d==0.12.0->torch-points3d==0.2.0) (21.2.0)\n",
            "Requirement already satisfied: packaging in /usr/local/lib/python3.7/dist-packages (from bleach->nbconvert->notebook->open3d==0.12.0->torch-points3d==0.2.0) (20.9)\n",
            "Requirement already satisfied: webencodings in /usr/local/lib/python3.7/dist-packages (from bleach->nbconvert->notebook->open3d==0.12.0->torch-points3d==0.2.0) (0.5.1)\n",
            "Building wheels for collected packages: torch-points3d\n",
            "  Building wheel for torch-points3d (PEP 517) ... \u001b[?25l\u001b[?25hdone\n",
            "  Created wheel for torch-points3d: filename=torch_points3d-0.2.0-cp37-none-any.whl size=350862 sha256=d8a34e5e3beae8cd222debdaa29f16ba672083dc9f9fccc8f961f156feac4516\n",
            "  Stored in directory: /tmp/pip-ephem-wheel-cache-ezqeu0ho/wheels/1a/1d/ba/bffa6ba5682091b0c181a92a8d56fdb106c460a11c368cbc32\n",
            "Successfully built torch-points3d\n"
          ],
          "name": "stdout"
        }
      ]
    },
    {
      "cell_type": "code",
      "metadata": {
        "id": "7U_MRvqiBg__"
      },
      "source": [
        "!pip install pyvistaqt\n",
        "!apt-get install build-essential python3-dev libopenblas-dev\n",
        "!pip install -U git+https://github.com/NVIDIA/MinkowskiEngine --no-deps\n"
      ],
      "execution_count": null,
      "outputs": []
    },
    {
      "cell_type": "markdown",
      "metadata": {
        "id": "0upTEPRr_ofL"
      },
      "source": [
        "We install also install torchsparse"
      ]
    },
    {
      "cell_type": "markdown",
      "metadata": {
        "id": "x1Bc0Ait_oc1"
      },
      "source": [
        ""
      ]
    },
    {
      "cell_type": "code",
      "metadata": {
        "id": "_fSreyeXWU1E"
      },
      "source": [
        "!apt-get install libsparsehash-dev\n",
        "!pip install --upgrade git+https://github.com/mit-han-lab/torchsparse.git"
      ],
      "execution_count": null,
      "outputs": []
    },
    {
      "cell_type": "markdown",
      "metadata": {
        "id": "l0q4WUP1_xL2"
      },
      "source": [
        "## Registration\n",
        "\n",
        "We will use pyvista for the visualization. But it is not interactive..."
      ]
    },
    {
      "cell_type": "code",
      "metadata": {
        "id": "NPVXHmzQMu_R"
      },
      "source": [
        "import numpy as np\n",
        "import open3d as o3d\n",
        "import os\n",
        "import os.path as osp\n",
        "import pathlib\n",
        "import requests\n",
        "import torch\n",
        "from torch_points3d.applications.pretrained_api import PretainedRegistry\n",
        "from torch_points3d.core.data_transform import GridSampling3D, AddFeatByKey, AddOnes, Random3AxisRotation\n",
        "from torch_points3d.datasets.registration.pair import Pair\n",
        "from torch_points3d.utils.registration import get_matches, fast_global_registration\n",
        "from torch_geometric.data import Data\n",
        "from torch_geometric.transforms import Compose\n",
        "from torch_points3d.metrics.registration_metrics import compute_hit_ratio\n",
        "from zipfile import ZipFile\n",
        "\n",
        "import pyvista as pv\n",
        "import panel as pn\n",
        "\n",
        "pn.extension('vtk')\n",
        "os.system('/usr/bin/Xvfb :99 -screen 0 1024x768x24 &')\n",
        "os.environ['DISPLAY'] = ':99'\n",
        "os.environ['PYVISTA_OFF_SCREEN'] = 'True'\n",
        "os.environ['PYVISTA_USE_PANEL'] = 'True'"
      ],
      "execution_count": null,
      "outputs": []
    },
    {
      "cell_type": "markdown",
      "metadata": {
        "id": "AET-aTq2_-7-"
      },
      "source": [
        "We need to download the datasets, and the models"
      ]
    },
    {
      "cell_type": "code",
      "metadata": {
        "id": "aFs0aBZDWUwv"
      },
      "source": [
        "MODEL = {\"MS_SVCONV_2cm_X2_3head_3dm.pt\": \"https://cloud.mines-paristech.fr/index.php/s/hRc6y2YIFtYsGAI/download\",\n",
        "         \"MS_SVCONV_4cm_X2_3head_eth.pt\": \"https://cloud.mines-paristech.fr/index.php/s/pUmGPtHUG2ASxlJ/download\"}\n",
        "DATA = {\"gazebo_winter_12.pcd\": \"https://cloud.mines-paristech.fr/index.php/s/zgO88hYFeogTj2s/download\",\n",
        "        \"gazebo_winter_11.pcd\": \"https://cloud.mines-paristech.fr/index.php/s/NpsabVL7bz5qFEe/download\",\n",
        "        \"kitchen_0.ply\": \"https://cloud.mines-paristech.fr/index.php/s/lArxiaV0DPo4bBU/download\",\n",
        "        \"kitchen_10.ply\": \"https://cloud.mines-paristech.fr/index.php/s/357BXcA2qcrw2Uy/download\"}\n",
        "\n",
        "def download(url, out, name):\n",
        "  \"\"\"\n",
        "  download a file and extract the zip file\n",
        "  \"\"\"\n",
        "  req = requests.get(url)\n",
        "  pathlib.Path(out).mkdir(exist_ok=True)\n",
        "  with open(osp.join(out, name), \"wb\") as archive:\n",
        "    archive.write(req.content)\n",
        "def extract(out, name):\n",
        "  with ZipFile(osp.join(out, name+\".zip\"), \"r\") as zip_obj:\n",
        "    zip_obj.extractall(osp.join(out, name))\n",
        "# Download Models and data for the demo\n",
        "download(MODEL[\"MS_SVCONV_2cm_X2_3head_3dm.pt\"], \"models\", \"MS_SVCONV_2cm_X2_3head_3dm.pt\")\n",
        "download(MODEL[\"MS_SVCONV_4cm_X2_3head_eth.pt\"], \"models\", \"MS_SVCONV_4cm_X2_3head_eth.pt\")\n",
        "download(DATA[\"gazebo_winter_12.pcd\"], \"data\", \"gazebo_winter_12.pcd\")\n",
        "download(DATA[\"gazebo_winter_11.pcd\"], \"data\", \"gazebo_winter_11.pcd\")\n",
        "download(DATA[\"kitchen_0.ply\"], \"data\", \"kitchen_0.ply\")\n",
        "download(DATA[\"kitchen_10.ply\"], \"data\", \"kitchen_10.ply\")\n",
        "\n",
        "\n"
      ],
      "execution_count": null,
      "outputs": []
    },
    {
      "cell_type": "code",
      "metadata": {
        "id": "GNxw7wNb8Edi"
      },
      "source": [
        "def read_pcd(path):\n",
        "  pcd = o3d.io.read_point_cloud(path)\n",
        "  data = Pair(pos=torch.from_numpy(np.asarray(pcd.points)).float(), batch=torch.zeros(len(pcd.points)).long())\n",
        "  return data"
      ],
      "execution_count": null,
      "outputs": []
    },
    {
      "cell_type": "markdown",
      "metadata": {
        "id": "2rpBdgsBAHuN"
      },
      "source": [
        "modify the variable `choice_data` and `choice_model` if you want to change the dataset and the model. \n",
        "For the transformation, we perform random rotation beforehand just to show that MS-SVConv is rotation invariant. "
      ]
    },
    {
      "cell_type": "code",
      "metadata": {
        "id": "1r4jSZWiungd"
      },
      "source": [
        "#@title Data and Model\n",
        "#@markdown Please choose the data and the model you want\n",
        "choice_data = \"3dm\"  #@param ['eth', '3dm']\n",
        "choice_model = \"3dm\"  #@param ['eth', '3dm']\n",
        "\n"
      ],
      "execution_count": null,
      "outputs": []
    },
    {
      "cell_type": "code",
      "metadata": {
        "id": "egHArbbq6ISY"
      },
      "source": [
        "\n",
        "# DATA\n",
        "pcd_path = {\n",
        "    \"eth\": [\"data/gazebo_winter_12.pcd\", \"data/gazebo_winter_11.pcd\"],\n",
        "    \"3dm\": [\"data/kitchen_0.ply\", \"data/kitchen_10.ply\"] \n",
        "}\n",
        "# Model\n",
        "pcd_model = {\n",
        "    \"eth\": \"models/MS_SVCONV_4cm_X2_3head_eth.pt\",\n",
        "    \"3dm\": \"models/MS_SVCONV_2cm_X2_3head_3dm.pt\"\n",
        "}\n",
        "\n",
        "# Data augmentation\n",
        "transfo_3dm = Compose([Random3AxisRotation(rot_x=180, rot_y=180, rot_z=180), GridSampling3D(size=0.02, quantize_coords=True, mode='last'), AddOnes(), AddFeatByKey(add_to_x=True, feat_name=\"ones\")])\n",
        "transfo_eth = Compose([Random3AxisRotation(rot_x=180, rot_y=180, rot_z=180), GridSampling3D(size=0.04, quantize_coords=True, mode='last'), AddOnes(), AddFeatByKey(add_to_x=True, feat_name=\"ones\")])\n",
        "pcd_DA = {\n",
        "    \"eth\": transfo_eth,\n",
        "    \"3dm\": transfo_3dm\n",
        "}\n",
        "\n",
        "model = PretainedRegistry.from_file(pcd_model[choice_model], mock_property={})\n",
        "\n",
        "data_s = pcd_DA[choice_model](read_pcd(pcd_path[choice_data][0]))\n",
        "data_t = pcd_DA[choice_model](read_pcd(pcd_path[choice_data][1]))\n",
        "\n",
        "\n",
        "#pl1 = pvqt.BackgroundPlotter()\n",
        "pl1 = pv.Plotter(notebook=True)\n",
        "pl1.add_points(data_s.pos.numpy(),color=[0.9, 0.7, 0.1])\n",
        "pl1.add_points(data_t.pos.numpy(),color=[0.1, 0.7, 0.9])\n",
        "\n",
        "pl1.enable_eye_dome_lighting()\n",
        "pl1.show()"
      ],
      "execution_count": null,
      "outputs": []
    },
    {
      "cell_type": "code",
      "metadata": {
        "id": "hbeevGTAU52_"
      },
      "source": [
        "def ransac(pos_s, pos_t, feat_s, feat_t, distance_threshold=0.1):\n",
        "  pcd_s = o3d.geometry.PointCloud()\n",
        "  pcd_s.points = o3d.utility.Vector3dVector(pos_s.numpy())\n",
        "  pcd_t = o3d.geometry.PointCloud()\n",
        "  pcd_t.points = o3d.utility.Vector3dVector(pos_t.numpy())\n",
        "\n",
        "  f_s = o3d.pipelines.registration.Feature()\n",
        "  f_s.data = feat_s.T.numpy()\n",
        "  f_t = o3d.pipelines.registration.Feature()\n",
        "  f_t.data = feat_t.T.numpy()\n",
        "  result = o3d.pipelines.registration.registration_ransac_based_on_feature_matching(\n",
        "      source=pcd_s, target=pcd_t, source_feature=f_s, target_feature=f_t, \n",
        "      mutual_filter=True,\n",
        "      max_correspondence_distance=distance_threshold,\n",
        "      estimation_method=o3d.pipelines.registration.TransformationEstimationPointToPoint(False),\n",
        "      ransac_n=4,\n",
        "      checkers=[o3d.pipelines.registration.CorrespondenceCheckerBasedOnEdgeLength(0.9),\n",
        "       o3d.pipelines.registration.CorrespondenceCheckerBasedOnDistance(distance_threshold)],\n",
        "      criteria=o3d.pipelines.registration.RANSACConvergenceCriteria(4000000, 500))\n",
        "  return torch.from_numpy(result.transformation).float()"
      ],
      "execution_count": null,
      "outputs": []
    },
    {
      "cell_type": "markdown",
      "metadata": {
        "id": "mo8dbgNFApNv"
      },
      "source": [
        "To registrate, we use RANSAC of Open3D, but it's possible to use other estimator (such as Fast Global Registration or TEASER)"
      ]
    },
    {
      "cell_type": "code",
      "metadata": {
        "id": "xZddsisSVtKr"
      },
      "source": [
        "# Let us registrate !!\n",
        "\n",
        "# Compute the matches\n",
        "with torch.no_grad():\n",
        "  model.set_input(data_s, \"cuda\")\n",
        "  feat_s = model.forward()\n",
        "  model.set_input(data_t, \"cuda\")\n",
        "  feat_t = model.forward()\n",
        "# select random points and compute transformation using FGR\n",
        "rand_s = torch.randint(0, len(feat_s), (5000, ))\n",
        "rand_t = torch.randint(0, len(feat_t), (5000, ))\n",
        "# matches = get_matches(feat_s[rand_s], feat_t[rand_t], sym=True)\n",
        "T_est = ransac(data_s.pos[rand_s], data_t.pos[rand_t], feat_s[rand_s], feat_t[rand_t])\n",
        "print(T_est)"
      ],
      "execution_count": null,
      "outputs": []
    },
    {
      "cell_type": "code",
      "metadata": {
        "id": "5dGG8AbpCzW6"
      },
      "source": [
        "pl2 = pv.Plotter(notebook=True)\n",
        "transformed = data_s.pos @ T_est[:3, :3].T + T_est[:3, 3]\n",
        "pl2.add_points(np.asarray(transformed.cpu().numpy()),color=[0.9, 0.7, 0.1])\n",
        "pl2.add_points(np.asarray(data_t.pos.cpu().numpy()),color=[0.1, 0.7, 0.9])\n",
        "pl2.enable_eye_dome_lighting()\n",
        "pl2.show()"
      ],
      "execution_count": null,
      "outputs": []
    },
    {
      "cell_type": "markdown",
      "metadata": {
        "id": "Rd5Yv9K-A__Y"
      },
      "source": [
        "That's it ! Now, you know how to use MS-SVConv ! Don't hesitate using it in you project. And if you like it, please cite our work :\n",
        "```\n",
        "@inproceedings{horache2021mssvconv,\n",
        "      title={3D Point Cloud Registration with Multi-Scale Architecture and Self-supervised Fine-tuning}, \n",
        "      author={Sofiane Horache and Jean-Emmanuel Deschaud and François Goulette},\n",
        "      year={2021},\n",
        "      journal={arXiv preprint arXiv:2103.14533}\n",
        "}\n",
        "```"
      ]
    }
  ]
}